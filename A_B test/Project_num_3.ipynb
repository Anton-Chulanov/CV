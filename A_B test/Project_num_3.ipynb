{
 "cells": [
  {
   "cell_type": "markdown",
   "id": "385d045c",
   "metadata": {},
   "source": [
    "# Увеличение выручки интернет магазина"
   ]
  },
  {
   "cell_type": "markdown",
   "id": "4d527793",
   "metadata": {},
   "source": [
    "## Исследование исходных данных"
   ]
  },
  {
   "cell_type": "markdown",
   "id": "d680bc65",
   "metadata": {},
   "source": [
    "### Загрузка данных"
   ]
  },
  {
   "cell_type": "markdown",
   "id": "52b8ece7",
   "metadata": {},
   "source": [
    "Импортируем необходимые для работы библиотеки"
   ]
  },
  {
   "cell_type": "code",
   "execution_count": 1,
   "id": "ba21cebe",
   "metadata": {},
   "outputs": [],
   "source": [
    "import pandas as pd\n",
    "from scipy import stats as st\n",
    "import numpy as np\n",
    "import datetime as dt\n",
    "from datetime import datetime, timedelta\n",
    "from matplotlib import pyplot as plt"
   ]
  },
  {
   "cell_type": "markdown",
   "id": "1ed59b75",
   "metadata": {},
   "source": [
    "Загружаем данные в Датафрейм"
   ]
  },
  {
   "cell_type": "code",
   "execution_count": 2,
   "id": "e8e7e180",
   "metadata": {},
   "outputs": [],
   "source": [
    "orders = pd.read_csv('/datasets/orders.csv', sep=',') # Данные о заказах"
   ]
  },
  {
   "cell_type": "code",
   "execution_count": 3,
   "id": "4b7c0f0b",
   "metadata": {},
   "outputs": [],
   "source": [
    "hypothesis = pd.read_csv('/datasets/hypothesis.csv',sep=',') # Данные о гипотезах"
   ]
  },
  {
   "cell_type": "code",
   "execution_count": 4,
   "id": "aeaa07d8",
   "metadata": {},
   "outputs": [],
   "source": [
    "visitors = pd.read_csv('/datasets/visitors.csv', sep=',') # Данные о посетителях"
   ]
  },
  {
   "cell_type": "markdown",
   "id": "b74ce688",
   "metadata": {},
   "source": [
    "Выведем первые 5 строк каждого датафрейма. Затем посмотрим на информацию о них и проверим на наличие пропусков и дубликатов"
   ]
  },
  {
   "cell_type": "markdown",
   "id": "8bb21998",
   "metadata": {},
   "source": [
    "**Заказы**"
   ]
  },
  {
   "cell_type": "code",
   "execution_count": 5,
   "id": "81230198",
   "metadata": {
    "scrolled": true
   },
   "outputs": [
    {
     "data": {
      "text/html": [
       "<div>\n",
       "<style scoped>\n",
       "    .dataframe tbody tr th:only-of-type {\n",
       "        vertical-align: middle;\n",
       "    }\n",
       "\n",
       "    .dataframe tbody tr th {\n",
       "        vertical-align: top;\n",
       "    }\n",
       "\n",
       "    .dataframe thead th {\n",
       "        text-align: right;\n",
       "    }\n",
       "</style>\n",
       "<table border=\"1\" class=\"dataframe\">\n",
       "  <thead>\n",
       "    <tr style=\"text-align: right;\">\n",
       "      <th></th>\n",
       "      <th>transactionId</th>\n",
       "      <th>visitorId</th>\n",
       "      <th>date</th>\n",
       "      <th>revenue</th>\n",
       "      <th>group</th>\n",
       "    </tr>\n",
       "  </thead>\n",
       "  <tbody>\n",
       "    <tr>\n",
       "      <th>0</th>\n",
       "      <td>3667963787</td>\n",
       "      <td>3312258926</td>\n",
       "      <td>2019-08-15</td>\n",
       "      <td>1650</td>\n",
       "      <td>B</td>\n",
       "    </tr>\n",
       "    <tr>\n",
       "      <th>1</th>\n",
       "      <td>2804400009</td>\n",
       "      <td>3642806036</td>\n",
       "      <td>2019-08-15</td>\n",
       "      <td>730</td>\n",
       "      <td>B</td>\n",
       "    </tr>\n",
       "    <tr>\n",
       "      <th>2</th>\n",
       "      <td>2961555356</td>\n",
       "      <td>4069496402</td>\n",
       "      <td>2019-08-15</td>\n",
       "      <td>400</td>\n",
       "      <td>A</td>\n",
       "    </tr>\n",
       "    <tr>\n",
       "      <th>3</th>\n",
       "      <td>3797467345</td>\n",
       "      <td>1196621759</td>\n",
       "      <td>2019-08-15</td>\n",
       "      <td>9759</td>\n",
       "      <td>B</td>\n",
       "    </tr>\n",
       "    <tr>\n",
       "      <th>4</th>\n",
       "      <td>2282983706</td>\n",
       "      <td>2322279887</td>\n",
       "      <td>2019-08-15</td>\n",
       "      <td>2308</td>\n",
       "      <td>B</td>\n",
       "    </tr>\n",
       "  </tbody>\n",
       "</table>\n",
       "</div>"
      ],
      "text/plain": [
       "   transactionId   visitorId        date  revenue group\n",
       "0     3667963787  3312258926  2019-08-15     1650     B\n",
       "1     2804400009  3642806036  2019-08-15      730     B\n",
       "2     2961555356  4069496402  2019-08-15      400     A\n",
       "3     3797467345  1196621759  2019-08-15     9759     B\n",
       "4     2282983706  2322279887  2019-08-15     2308     B"
      ]
     },
     "execution_count": 5,
     "metadata": {},
     "output_type": "execute_result"
    }
   ],
   "source": [
    "orders.head()"
   ]
  },
  {
   "cell_type": "code",
   "execution_count": 6,
   "id": "59151dc4",
   "metadata": {},
   "outputs": [
    {
     "name": "stdout",
     "output_type": "stream",
     "text": [
      "<class 'pandas.core.frame.DataFrame'>\n",
      "RangeIndex: 1197 entries, 0 to 1196\n",
      "Data columns (total 5 columns):\n",
      " #   Column         Non-Null Count  Dtype \n",
      "---  ------         --------------  ----- \n",
      " 0   transactionId  1197 non-null   int64 \n",
      " 1   visitorId      1197 non-null   int64 \n",
      " 2   date           1197 non-null   object\n",
      " 3   revenue        1197 non-null   int64 \n",
      " 4   group          1197 non-null   object\n",
      "dtypes: int64(3), object(2)\n",
      "memory usage: 46.9+ KB\n"
     ]
    }
   ],
   "source": [
    "orders.info()"
   ]
  },
  {
   "cell_type": "markdown",
   "id": "07d2305d",
   "metadata": {},
   "source": [
    "Для датафрейма с заказами можно сделать выводы:\n",
    "* Судя по количсевту строк - пропусков в данных нет\n",
    "* `date` имеет тип данных `object`. Переведем его в тип `datetime`"
   ]
  },
  {
   "cell_type": "code",
   "execution_count": 7,
   "id": "f2350bae",
   "metadata": {},
   "outputs": [],
   "source": [
    "orders['date'] = orders['date'].map(\n",
    "    lambda x: dt.datetime.strptime(x, '%Y-%m-%d') # Для каждого элемента применяем перевод в тип данных datetime\n",
    ")"
   ]
  },
  {
   "cell_type": "markdown",
   "id": "1243c5c6",
   "metadata": {},
   "source": [
    "**Гипотезы**"
   ]
  },
  {
   "cell_type": "code",
   "execution_count": 8,
   "id": "9a58c324",
   "metadata": {},
   "outputs": [
    {
     "data": {
      "text/html": [
       "<div>\n",
       "<style scoped>\n",
       "    .dataframe tbody tr th:only-of-type {\n",
       "        vertical-align: middle;\n",
       "    }\n",
       "\n",
       "    .dataframe tbody tr th {\n",
       "        vertical-align: top;\n",
       "    }\n",
       "\n",
       "    .dataframe thead th {\n",
       "        text-align: right;\n",
       "    }\n",
       "</style>\n",
       "<table border=\"1\" class=\"dataframe\">\n",
       "  <thead>\n",
       "    <tr style=\"text-align: right;\">\n",
       "      <th></th>\n",
       "      <th>Hypothesis</th>\n",
       "      <th>Reach</th>\n",
       "      <th>Impact</th>\n",
       "      <th>Confidence</th>\n",
       "      <th>Efforts</th>\n",
       "    </tr>\n",
       "  </thead>\n",
       "  <tbody>\n",
       "    <tr>\n",
       "      <th>0</th>\n",
       "      <td>Добавить два новых канала привлечения трафика,...</td>\n",
       "      <td>3</td>\n",
       "      <td>10</td>\n",
       "      <td>8</td>\n",
       "      <td>6</td>\n",
       "    </tr>\n",
       "    <tr>\n",
       "      <th>1</th>\n",
       "      <td>Запустить собственную службу доставки, что сок...</td>\n",
       "      <td>2</td>\n",
       "      <td>5</td>\n",
       "      <td>4</td>\n",
       "      <td>10</td>\n",
       "    </tr>\n",
       "    <tr>\n",
       "      <th>2</th>\n",
       "      <td>Добавить блоки рекомендаций товаров на сайт ин...</td>\n",
       "      <td>8</td>\n",
       "      <td>3</td>\n",
       "      <td>7</td>\n",
       "      <td>3</td>\n",
       "    </tr>\n",
       "    <tr>\n",
       "      <th>3</th>\n",
       "      <td>Изменить структура категорий, что увеличит кон...</td>\n",
       "      <td>8</td>\n",
       "      <td>3</td>\n",
       "      <td>3</td>\n",
       "      <td>8</td>\n",
       "    </tr>\n",
       "    <tr>\n",
       "      <th>4</th>\n",
       "      <td>Изменить цвет фона главной страницы, чтобы уве...</td>\n",
       "      <td>3</td>\n",
       "      <td>1</td>\n",
       "      <td>1</td>\n",
       "      <td>1</td>\n",
       "    </tr>\n",
       "  </tbody>\n",
       "</table>\n",
       "</div>"
      ],
      "text/plain": [
       "                                          Hypothesis  Reach  Impact  \\\n",
       "0  Добавить два новых канала привлечения трафика,...      3      10   \n",
       "1  Запустить собственную службу доставки, что сок...      2       5   \n",
       "2  Добавить блоки рекомендаций товаров на сайт ин...      8       3   \n",
       "3  Изменить структура категорий, что увеличит кон...      8       3   \n",
       "4  Изменить цвет фона главной страницы, чтобы уве...      3       1   \n",
       "\n",
       "   Confidence  Efforts  \n",
       "0           8        6  \n",
       "1           4       10  \n",
       "2           7        3  \n",
       "3           3        8  \n",
       "4           1        1  "
      ]
     },
     "execution_count": 8,
     "metadata": {},
     "output_type": "execute_result"
    }
   ],
   "source": [
    "hypothesis.head()"
   ]
  },
  {
   "cell_type": "code",
   "execution_count": 9,
   "id": "5857c0a6",
   "metadata": {
    "scrolled": true
   },
   "outputs": [
    {
     "name": "stdout",
     "output_type": "stream",
     "text": [
      "<class 'pandas.core.frame.DataFrame'>\n",
      "RangeIndex: 9 entries, 0 to 8\n",
      "Data columns (total 5 columns):\n",
      " #   Column      Non-Null Count  Dtype \n",
      "---  ------      --------------  ----- \n",
      " 0   Hypothesis  9 non-null      object\n",
      " 1   Reach       9 non-null      int64 \n",
      " 2   Impact      9 non-null      int64 \n",
      " 3   Confidence  9 non-null      int64 \n",
      " 4   Efforts     9 non-null      int64 \n",
      "dtypes: int64(4), object(1)\n",
      "memory usage: 488.0+ bytes\n"
     ]
    }
   ],
   "source": [
    "hypothesis.info()"
   ]
  },
  {
   "cell_type": "markdown",
   "id": "a7a8330a",
   "metadata": {},
   "source": [
    "Првиедем к нижнему ригстру наименование столбцов"
   ]
  },
  {
   "cell_type": "code",
   "execution_count": 10,
   "id": "4e8bcd9e",
   "metadata": {},
   "outputs": [],
   "source": [
    "hypothesis.columns = hypothesis.columns.str.lower() #Приведение названия столбцов к нижнему регситру"
   ]
  },
  {
   "cell_type": "code",
   "execution_count": 11,
   "id": "c6d18694",
   "metadata": {},
   "outputs": [
    {
     "data": {
      "text/html": [
       "<div>\n",
       "<style scoped>\n",
       "    .dataframe tbody tr th:only-of-type {\n",
       "        vertical-align: middle;\n",
       "    }\n",
       "\n",
       "    .dataframe tbody tr th {\n",
       "        vertical-align: top;\n",
       "    }\n",
       "\n",
       "    .dataframe thead th {\n",
       "        text-align: right;\n",
       "    }\n",
       "</style>\n",
       "<table border=\"1\" class=\"dataframe\">\n",
       "  <thead>\n",
       "    <tr style=\"text-align: right;\">\n",
       "      <th></th>\n",
       "      <th>hypothesis</th>\n",
       "      <th>reach</th>\n",
       "      <th>impact</th>\n",
       "      <th>confidence</th>\n",
       "      <th>efforts</th>\n",
       "    </tr>\n",
       "  </thead>\n",
       "  <tbody>\n",
       "    <tr>\n",
       "      <th>0</th>\n",
       "      <td>Добавить два новых канала привлечения трафика,...</td>\n",
       "      <td>3</td>\n",
       "      <td>10</td>\n",
       "      <td>8</td>\n",
       "      <td>6</td>\n",
       "    </tr>\n",
       "    <tr>\n",
       "      <th>1</th>\n",
       "      <td>Запустить собственную службу доставки, что сок...</td>\n",
       "      <td>2</td>\n",
       "      <td>5</td>\n",
       "      <td>4</td>\n",
       "      <td>10</td>\n",
       "    </tr>\n",
       "    <tr>\n",
       "      <th>2</th>\n",
       "      <td>Добавить блоки рекомендаций товаров на сайт ин...</td>\n",
       "      <td>8</td>\n",
       "      <td>3</td>\n",
       "      <td>7</td>\n",
       "      <td>3</td>\n",
       "    </tr>\n",
       "    <tr>\n",
       "      <th>3</th>\n",
       "      <td>Изменить структура категорий, что увеличит кон...</td>\n",
       "      <td>8</td>\n",
       "      <td>3</td>\n",
       "      <td>3</td>\n",
       "      <td>8</td>\n",
       "    </tr>\n",
       "    <tr>\n",
       "      <th>4</th>\n",
       "      <td>Изменить цвет фона главной страницы, чтобы уве...</td>\n",
       "      <td>3</td>\n",
       "      <td>1</td>\n",
       "      <td>1</td>\n",
       "      <td>1</td>\n",
       "    </tr>\n",
       "  </tbody>\n",
       "</table>\n",
       "</div>"
      ],
      "text/plain": [
       "                                          hypothesis  reach  impact  \\\n",
       "0  Добавить два новых канала привлечения трафика,...      3      10   \n",
       "1  Запустить собственную службу доставки, что сок...      2       5   \n",
       "2  Добавить блоки рекомендаций товаров на сайт ин...      8       3   \n",
       "3  Изменить структура категорий, что увеличит кон...      8       3   \n",
       "4  Изменить цвет фона главной страницы, чтобы уве...      3       1   \n",
       "\n",
       "   confidence  efforts  \n",
       "0           8        6  \n",
       "1           4       10  \n",
       "2           7        3  \n",
       "3           3        8  \n",
       "4           1        1  "
      ]
     },
     "execution_count": 11,
     "metadata": {},
     "output_type": "execute_result"
    }
   ],
   "source": [
    "hypothesis.head()"
   ]
  },
  {
   "cell_type": "markdown",
   "id": "3c7f7a3b",
   "metadata": {},
   "source": [
    "С данными все впорядке"
   ]
  },
  {
   "cell_type": "markdown",
   "id": "ce8bde75",
   "metadata": {},
   "source": [
    "**Посетители**"
   ]
  },
  {
   "cell_type": "code",
   "execution_count": 12,
   "id": "a7c2e4ef",
   "metadata": {},
   "outputs": [
    {
     "data": {
      "text/html": [
       "<div>\n",
       "<style scoped>\n",
       "    .dataframe tbody tr th:only-of-type {\n",
       "        vertical-align: middle;\n",
       "    }\n",
       "\n",
       "    .dataframe tbody tr th {\n",
       "        vertical-align: top;\n",
       "    }\n",
       "\n",
       "    .dataframe thead th {\n",
       "        text-align: right;\n",
       "    }\n",
       "</style>\n",
       "<table border=\"1\" class=\"dataframe\">\n",
       "  <thead>\n",
       "    <tr style=\"text-align: right;\">\n",
       "      <th></th>\n",
       "      <th>date</th>\n",
       "      <th>group</th>\n",
       "      <th>visitors</th>\n",
       "    </tr>\n",
       "  </thead>\n",
       "  <tbody>\n",
       "    <tr>\n",
       "      <th>0</th>\n",
       "      <td>2019-08-01</td>\n",
       "      <td>A</td>\n",
       "      <td>719</td>\n",
       "    </tr>\n",
       "    <tr>\n",
       "      <th>1</th>\n",
       "      <td>2019-08-02</td>\n",
       "      <td>A</td>\n",
       "      <td>619</td>\n",
       "    </tr>\n",
       "    <tr>\n",
       "      <th>2</th>\n",
       "      <td>2019-08-03</td>\n",
       "      <td>A</td>\n",
       "      <td>507</td>\n",
       "    </tr>\n",
       "    <tr>\n",
       "      <th>3</th>\n",
       "      <td>2019-08-04</td>\n",
       "      <td>A</td>\n",
       "      <td>717</td>\n",
       "    </tr>\n",
       "    <tr>\n",
       "      <th>4</th>\n",
       "      <td>2019-08-05</td>\n",
       "      <td>A</td>\n",
       "      <td>756</td>\n",
       "    </tr>\n",
       "  </tbody>\n",
       "</table>\n",
       "</div>"
      ],
      "text/plain": [
       "         date group  visitors\n",
       "0  2019-08-01     A       719\n",
       "1  2019-08-02     A       619\n",
       "2  2019-08-03     A       507\n",
       "3  2019-08-04     A       717\n",
       "4  2019-08-05     A       756"
      ]
     },
     "execution_count": 12,
     "metadata": {},
     "output_type": "execute_result"
    }
   ],
   "source": [
    "visitors.head()"
   ]
  },
  {
   "cell_type": "code",
   "execution_count": 13,
   "id": "ee855578",
   "metadata": {},
   "outputs": [
    {
     "name": "stdout",
     "output_type": "stream",
     "text": [
      "<class 'pandas.core.frame.DataFrame'>\n",
      "RangeIndex: 62 entries, 0 to 61\n",
      "Data columns (total 3 columns):\n",
      " #   Column    Non-Null Count  Dtype \n",
      "---  ------    --------------  ----- \n",
      " 0   date      62 non-null     object\n",
      " 1   group     62 non-null     object\n",
      " 2   visitors  62 non-null     int64 \n",
      "dtypes: int64(1), object(2)\n",
      "memory usage: 1.6+ KB\n"
     ]
    }
   ],
   "source": [
    "visitors.info()"
   ]
  },
  {
   "cell_type": "markdown",
   "id": "df5b7550",
   "metadata": {},
   "source": [
    "Аналогично Фрейму с заказами - необходимо перевести тип данных `date` из `object` в `datetime`"
   ]
  },
  {
   "cell_type": "code",
   "execution_count": 14,
   "id": "04d4d605",
   "metadata": {},
   "outputs": [],
   "source": [
    "visitors['date'] = visitors['date'].map(\n",
    "    lambda x: dt.datetime.strptime(x, '%Y-%m-%d')# Для каждого элемента применяем перевод в тип данных datetime\n",
    ")"
   ]
  },
  {
   "cell_type": "markdown",
   "id": "6cd5c4bb",
   "metadata": {},
   "source": [
    "**Количесвто групп тестирования**"
   ]
  },
  {
   "cell_type": "code",
   "execution_count": 15,
   "id": "6882ffee",
   "metadata": {},
   "outputs": [
    {
     "data": {
      "text/plain": [
       "2"
      ]
     },
     "execution_count": 15,
     "metadata": {},
     "output_type": "execute_result"
    }
   ],
   "source": [
    "len(visitors['group'].unique())# Количсевто групп в Посетителях"
   ]
  },
  {
   "cell_type": "code",
   "execution_count": 16,
   "id": "3ae42a63",
   "metadata": {},
   "outputs": [
    {
     "data": {
      "text/plain": [
       "2"
      ]
     },
     "execution_count": 16,
     "metadata": {},
     "output_type": "execute_result"
    }
   ],
   "source": [
    "len(orders['group'].unique())# Количсевто групп в Заказах"
   ]
  },
  {
   "cell_type": "markdown",
   "id": "38ccc236",
   "metadata": {},
   "source": [
    "Количество групп в обоих случаях - ***2***"
   ]
  },
  {
   "cell_type": "markdown",
   "id": "9eeab8fa",
   "metadata": {},
   "source": [
    "**Период проведения исследвования**"
   ]
  },
  {
   "cell_type": "code",
   "execution_count": 17,
   "id": "2b67b668",
   "metadata": {},
   "outputs": [
    {
     "name": "stdout",
     "output_type": "stream",
     "text": [
      "Начальная дата исследования 2019-08-01 00:00:00\n"
     ]
    }
   ],
   "source": [
    "print('Начальная дата исследования', visitors['date'].min())"
   ]
  },
  {
   "cell_type": "code",
   "execution_count": 18,
   "id": "2aa8a75e",
   "metadata": {},
   "outputs": [
    {
     "name": "stdout",
     "output_type": "stream",
     "text": [
      "Конечная дата исследования 2019-08-31 00:00:00\n"
     ]
    }
   ],
   "source": [
    "print('Конечная дата исследования', visitors['date'].max())"
   ]
  },
  {
   "cell_type": "markdown",
   "id": "c6ba6e18",
   "metadata": {},
   "source": [
    "**Количество пользоватей в группах**"
   ]
  },
  {
   "cell_type": "code",
   "execution_count": 19,
   "id": "7eb058a8",
   "metadata": {
    "scrolled": true
   },
   "outputs": [
    {
     "data": {
      "text/html": [
       "<div>\n",
       "<style scoped>\n",
       "    .dataframe tbody tr th:only-of-type {\n",
       "        vertical-align: middle;\n",
       "    }\n",
       "\n",
       "    .dataframe tbody tr th {\n",
       "        vertical-align: top;\n",
       "    }\n",
       "\n",
       "    .dataframe thead th {\n",
       "        text-align: right;\n",
       "    }\n",
       "</style>\n",
       "<table border=\"1\" class=\"dataframe\">\n",
       "  <thead>\n",
       "    <tr style=\"text-align: right;\">\n",
       "      <th></th>\n",
       "      <th>visitorId</th>\n",
       "    </tr>\n",
       "    <tr>\n",
       "      <th>group</th>\n",
       "      <th></th>\n",
       "    </tr>\n",
       "  </thead>\n",
       "  <tbody>\n",
       "    <tr>\n",
       "      <th>A</th>\n",
       "      <td>503</td>\n",
       "    </tr>\n",
       "    <tr>\n",
       "      <th>B</th>\n",
       "      <td>586</td>\n",
       "    </tr>\n",
       "  </tbody>\n",
       "</table>\n",
       "</div>"
      ],
      "text/plain": [
       "       visitorId\n",
       "group           \n",
       "A            503\n",
       "B            586"
      ]
     },
     "execution_count": 19,
     "metadata": {},
     "output_type": "execute_result"
    }
   ],
   "source": [
    "orders.groupby('group').agg({'visitorId' : 'nunique'})"
   ]
  },
  {
   "cell_type": "markdown",
   "id": "fafdf279",
   "metadata": {},
   "source": [
    "В группе А - 503 участника\n",
    "\n",
    "В группе В - 586 участников"
   ]
  },
  {
   "cell_type": "markdown",
   "id": "bd85f4cb",
   "metadata": {},
   "source": [
    "**Пересекающиеся пользователи**"
   ]
  },
  {
   "cell_type": "code",
   "execution_count": 20,
   "id": "b423bb7d",
   "metadata": {},
   "outputs": [],
   "source": [
    "order_cross = orders.groupby('visitorId').agg({'group': 'nunique'})# Группируем пользоватей с подсчетом уникальных групп для каждого"
   ]
  },
  {
   "cell_type": "code",
   "execution_count": 21,
   "id": "51c6f643",
   "metadata": {},
   "outputs": [
    {
     "name": "stdout",
     "output_type": "stream",
     "text": [
      "Количество пересекающихся пользователей по группам group    58\n",
      "dtype: int64\n"
     ]
    }
   ],
   "source": [
    "print('Количество пересекающихся пользователей по группам',order_cross[order_cross['group'] > 1].count())"
   ]
  },
  {
   "cell_type": "markdown",
   "id": "0d439a81",
   "metadata": {},
   "source": [
    "### Вывод"
   ]
  },
  {
   "cell_type": "markdown",
   "id": "2555d08b",
   "metadata": {},
   "source": [
    "Данныем подготовлены к дальнейшей работе"
   ]
  },
  {
   "cell_type": "markdown",
   "id": "6aa352d4",
   "metadata": {},
   "source": [
    "## Приоритизация Гипотиз"
   ]
  },
  {
   "cell_type": "markdown",
   "id": "c241f4a4",
   "metadata": {},
   "source": [
    "### Приоритизации гипотез методом ICE"
   ]
  },
  {
   "cell_type": "markdown",
   "id": "80ec2640",
   "metadata": {},
   "source": [
    "Из данных в Датафрейме с гипотезами, получим приоритезацию методом ICE "
   ]
  },
  {
   "cell_type": "code",
   "execution_count": 22,
   "id": "ba554897",
   "metadata": {},
   "outputs": [
    {
     "data": {
      "text/html": [
       "<div>\n",
       "<style scoped>\n",
       "    .dataframe tbody tr th:only-of-type {\n",
       "        vertical-align: middle;\n",
       "    }\n",
       "\n",
       "    .dataframe tbody tr th {\n",
       "        vertical-align: top;\n",
       "    }\n",
       "\n",
       "    .dataframe thead th {\n",
       "        text-align: right;\n",
       "    }\n",
       "</style>\n",
       "<table border=\"1\" class=\"dataframe\">\n",
       "  <thead>\n",
       "    <tr style=\"text-align: right;\">\n",
       "      <th></th>\n",
       "      <th>hypothesis</th>\n",
       "      <th>ICE</th>\n",
       "    </tr>\n",
       "  </thead>\n",
       "  <tbody>\n",
       "    <tr>\n",
       "      <th>8</th>\n",
       "      <td>Запустить акцию, дающую скидку на товар в день...</td>\n",
       "      <td>16.200000</td>\n",
       "    </tr>\n",
       "    <tr>\n",
       "      <th>0</th>\n",
       "      <td>Добавить два новых канала привлечения трафика,...</td>\n",
       "      <td>13.333333</td>\n",
       "    </tr>\n",
       "    <tr>\n",
       "      <th>7</th>\n",
       "      <td>Добавить форму подписки на все основные страни...</td>\n",
       "      <td>11.200000</td>\n",
       "    </tr>\n",
       "    <tr>\n",
       "      <th>6</th>\n",
       "      <td>Показать на главной странице баннеры с актуаль...</td>\n",
       "      <td>8.000000</td>\n",
       "    </tr>\n",
       "    <tr>\n",
       "      <th>2</th>\n",
       "      <td>Добавить блоки рекомендаций товаров на сайт ин...</td>\n",
       "      <td>7.000000</td>\n",
       "    </tr>\n",
       "    <tr>\n",
       "      <th>1</th>\n",
       "      <td>Запустить собственную службу доставки, что сок...</td>\n",
       "      <td>2.000000</td>\n",
       "    </tr>\n",
       "    <tr>\n",
       "      <th>5</th>\n",
       "      <td>Добавить страницу отзывов клиентов о магазине,...</td>\n",
       "      <td>1.333333</td>\n",
       "    </tr>\n",
       "    <tr>\n",
       "      <th>3</th>\n",
       "      <td>Изменить структура категорий, что увеличит кон...</td>\n",
       "      <td>1.125000</td>\n",
       "    </tr>\n",
       "    <tr>\n",
       "      <th>4</th>\n",
       "      <td>Изменить цвет фона главной страницы, чтобы уве...</td>\n",
       "      <td>1.000000</td>\n",
       "    </tr>\n",
       "  </tbody>\n",
       "</table>\n",
       "</div>"
      ],
      "text/plain": [
       "                                          hypothesis        ICE\n",
       "8  Запустить акцию, дающую скидку на товар в день...  16.200000\n",
       "0  Добавить два новых канала привлечения трафика,...  13.333333\n",
       "7  Добавить форму подписки на все основные страни...  11.200000\n",
       "6  Показать на главной странице баннеры с актуаль...   8.000000\n",
       "2  Добавить блоки рекомендаций товаров на сайт ин...   7.000000\n",
       "1  Запустить собственную службу доставки, что сок...   2.000000\n",
       "5  Добавить страницу отзывов клиентов о магазине,...   1.333333\n",
       "3  Изменить структура категорий, что увеличит кон...   1.125000\n",
       "4  Изменить цвет фона главной страницы, чтобы уве...   1.000000"
      ]
     },
     "execution_count": 22,
     "metadata": {},
     "output_type": "execute_result"
    }
   ],
   "source": [
    "hypothesis['ICE'] = hypothesis['impact'] * hypothesis['confidence'] / hypothesis['efforts']\n",
    "hypothesis[['hypothesis','ICE']].sort_values('ICE',ascending=False)"
   ]
  },
  {
   "cell_type": "markdown",
   "id": "b066ae49",
   "metadata": {},
   "source": [
    "Стоит выделить 3 гипотезы, заметно отличающиеся по уровню от остальных: Номера 8, 0, 7"
   ]
  },
  {
   "cell_type": "markdown",
   "id": "944f975d",
   "metadata": {},
   "source": [
    "### Приоритизации гипотез методом RICE"
   ]
  },
  {
   "cell_type": "markdown",
   "id": "3791676d",
   "metadata": {},
   "source": [
    "Аналогично `ICE` Применим метод `RICE`"
   ]
  },
  {
   "cell_type": "code",
   "execution_count": 23,
   "id": "303f228b",
   "metadata": {},
   "outputs": [
    {
     "data": {
      "text/html": [
       "<div>\n",
       "<style scoped>\n",
       "    .dataframe tbody tr th:only-of-type {\n",
       "        vertical-align: middle;\n",
       "    }\n",
       "\n",
       "    .dataframe tbody tr th {\n",
       "        vertical-align: top;\n",
       "    }\n",
       "\n",
       "    .dataframe thead th {\n",
       "        text-align: right;\n",
       "    }\n",
       "</style>\n",
       "<table border=\"1\" class=\"dataframe\">\n",
       "  <thead>\n",
       "    <tr style=\"text-align: right;\">\n",
       "      <th></th>\n",
       "      <th>hypothesis</th>\n",
       "      <th>RICE</th>\n",
       "    </tr>\n",
       "  </thead>\n",
       "  <tbody>\n",
       "    <tr>\n",
       "      <th>7</th>\n",
       "      <td>Добавить форму подписки на все основные страни...</td>\n",
       "      <td>112.0</td>\n",
       "    </tr>\n",
       "    <tr>\n",
       "      <th>2</th>\n",
       "      <td>Добавить блоки рекомендаций товаров на сайт ин...</td>\n",
       "      <td>56.0</td>\n",
       "    </tr>\n",
       "    <tr>\n",
       "      <th>0</th>\n",
       "      <td>Добавить два новых канала привлечения трафика,...</td>\n",
       "      <td>40.0</td>\n",
       "    </tr>\n",
       "    <tr>\n",
       "      <th>6</th>\n",
       "      <td>Показать на главной странице баннеры с актуаль...</td>\n",
       "      <td>40.0</td>\n",
       "    </tr>\n",
       "    <tr>\n",
       "      <th>8</th>\n",
       "      <td>Запустить акцию, дающую скидку на товар в день...</td>\n",
       "      <td>16.2</td>\n",
       "    </tr>\n",
       "    <tr>\n",
       "      <th>3</th>\n",
       "      <td>Изменить структура категорий, что увеличит кон...</td>\n",
       "      <td>9.0</td>\n",
       "    </tr>\n",
       "    <tr>\n",
       "      <th>1</th>\n",
       "      <td>Запустить собственную службу доставки, что сок...</td>\n",
       "      <td>4.0</td>\n",
       "    </tr>\n",
       "    <tr>\n",
       "      <th>5</th>\n",
       "      <td>Добавить страницу отзывов клиентов о магазине,...</td>\n",
       "      <td>4.0</td>\n",
       "    </tr>\n",
       "    <tr>\n",
       "      <th>4</th>\n",
       "      <td>Изменить цвет фона главной страницы, чтобы уве...</td>\n",
       "      <td>3.0</td>\n",
       "    </tr>\n",
       "  </tbody>\n",
       "</table>\n",
       "</div>"
      ],
      "text/plain": [
       "                                          hypothesis   RICE\n",
       "7  Добавить форму подписки на все основные страни...  112.0\n",
       "2  Добавить блоки рекомендаций товаров на сайт ин...   56.0\n",
       "0  Добавить два новых канала привлечения трафика,...   40.0\n",
       "6  Показать на главной странице баннеры с актуаль...   40.0\n",
       "8  Запустить акцию, дающую скидку на товар в день...   16.2\n",
       "3  Изменить структура категорий, что увеличит кон...    9.0\n",
       "1  Запустить собственную службу доставки, что сок...    4.0\n",
       "5  Добавить страницу отзывов клиентов о магазине,...    4.0\n",
       "4  Изменить цвет фона главной страницы, чтобы уве...    3.0"
      ]
     },
     "execution_count": 23,
     "metadata": {},
     "output_type": "execute_result"
    }
   ],
   "source": [
    "hypothesis['RICE'] = hypothesis['reach'] * hypothesis['impact'] * hypothesis['confidence'] / hypothesis['efforts']\n",
    "hypothesis[['hypothesis','RICE']].sort_values('RICE',ascending=False)"
   ]
  },
  {
   "cell_type": "markdown",
   "id": "506c1e21",
   "metadata": {},
   "source": [
    "Выделим 4 гипотезы: Номера 7, 2, 0, 6. Среди них есть явный лидер - это гипотеза номер 7."
   ]
  },
  {
   "cell_type": "markdown",
   "id": "c39c249a",
   "metadata": {},
   "source": [
    "### Вывод"
   ]
  },
  {
   "cell_type": "markdown",
   "id": "7089fb39",
   "metadata": {},
   "source": [
    "Методы RICE и ICE связаны между собой. Их основное отличие - это наличие параметра, описывающего охват аудитории - `REACH`\n",
    "Согласно методу ICE - гипотезы 8, 0, 7 имеют большую значимость, но из-за наибольшего охвата аудитории - гипотеза номер 7 заметно выше всех остальных."
   ]
  },
  {
   "cell_type": "markdown",
   "id": "c64dded3",
   "metadata": {},
   "source": [
    "Гипотеза, на которую стоит обратить внимание:\n",
    "***Добавить два новых канала привлечения трафика, что позволит привлекать на 30% больше пользователей***"
   ]
  },
  {
   "cell_type": "markdown",
   "id": "028fb9fd",
   "metadata": {},
   "source": [
    "## Анализ A/B - теста"
   ]
  },
  {
   "cell_type": "markdown",
   "id": "2144cbe9",
   "metadata": {},
   "source": [
    "### Подготовка данных"
   ]
  },
  {
   "cell_type": "code",
   "execution_count": 24,
   "id": "d86e4ff0",
   "metadata": {},
   "outputs": [
    {
     "name": "stdout",
     "output_type": "stream",
     "text": [
      "        date group  orders  revenue  visitors\n",
      "0 2019-08-01     A      24   148579       719\n",
      "1 2019-08-01     B      21   101217       713\n",
      "2 2019-08-02     A      44   242401      1338\n",
      "3 2019-08-02     B      45   266748      1294\n",
      "4 2019-08-03     A      68   354874      1845\n"
     ]
    }
   ],
   "source": [
    "# создаем массив уникальных пар значений дат и групп теста\n",
    "datesGroups = orders[['date','group']].drop_duplicates()\n",
    "\n",
    "# получаем агрегированные кумулятивные по дням данные о заказах \n",
    "ordersAggregated = datesGroups.apply(lambda x: orders[np.logical_and(orders['date'] <= x['date'], orders['group'] == x['group'])].agg({'date' : 'max', 'group' : 'max', 'transactionId' : 'nunique', 'revenue' : 'sum'}), axis=1).sort_values(by=['date','group'])\n",
    "\n",
    "# получаем агрегированные кумулятивные по дням данные о посетителях интернет-магазина \n",
    "visitorsAggregated = datesGroups.apply(lambda x: visitors[np.logical_and(visitors['date'] <= x['date'], visitors['group'] == x['group'])].agg({'date' : 'max', 'group' : 'max', 'visitors' : 'sum'}), axis=1).sort_values(by=['date','group'])\n",
    "\n",
    "# объединяем кумулятивные данные в одной таблице и присваиваем ее столбцам понятные названия\n",
    "cumulativeData = ordersAggregated.merge(visitorsAggregated, left_on=['date', 'group'], right_on=['date', 'group'])\n",
    "cumulativeData.columns = ['date', 'group', 'orders', 'revenue', 'visitors']\n",
    "\n",
    "print(cumulativeData.head(5)) #Выводим верхние 5 значение Кумулятивных данных"
   ]
  },
  {
   "cell_type": "markdown",
   "id": "f16e2edb",
   "metadata": {},
   "source": [
    "### График кумулятивной выручки по группам"
   ]
  },
  {
   "cell_type": "markdown",
   "id": "1f5430f2",
   "metadata": {},
   "source": [
    "Построим графики кумулятивной выручки по дням и группам A/B-тестирования:"
   ]
  },
  {
   "cell_type": "code",
   "execution_count": 25,
   "id": "f66efa69",
   "metadata": {},
   "outputs": [
    {
     "data": {
      "image/png": "[encoded data removed]",
      "text/plain": [
       "<Figure size 1080x360 with 1 Axes>"
      ]
     },
     "metadata": {
      "needs_background": "light"
     },
     "output_type": "display_data"
    }
   ],
   "source": [
    "# датафрейм с кумулятивным количеством заказов и кумулятивной выручкой по дням в группе А\n",
    "cumulativeRevenueA = cumulativeData[cumulativeData['group']=='A'][['date','revenue', 'orders']]\n",
    "\n",
    "# датафрейм с кумулятивным количеством заказов и кумулятивной выручкой по дням в группе B\n",
    "cumulativeRevenueB = cumulativeData[cumulativeData['group']=='B'][['date','revenue', 'orders']]\n",
    "\n",
    "plt.rcParams[\"figure.figsize\"] = [15, 5]\n",
    "\n",
    "# Строим график выручки группы А\n",
    "plt.plot(cumulativeRevenueA['date'], cumulativeRevenueA['revenue'], label='A')\n",
    "\n",
    "# Строим график выручки группы B\n",
    "plt.plot(cumulativeRevenueB['date'], cumulativeRevenueB['revenue'], label='B')\n",
    "\n",
    "plt.title('Кумулятивная выручка')\n",
    "plt.xlabel('Дата')\n",
    "plt.ylabel('Значение выручки')\n",
    "plt.legend(); "
   ]
  },
  {
   "cell_type": "markdown",
   "id": "a1441b0d",
   "metadata": {},
   "source": [
    "**Выводы**"
   ]
  },
  {
   "cell_type": "markdown",
   "id": "e6e251ad",
   "metadata": {},
   "source": [
    "График выручки растет. При этом группа В имеет резкий скачек в промежутке между 17 и 21 августа"
   ]
  },
  {
   "cell_type": "markdown",
   "id": "49741b85",
   "metadata": {},
   "source": [
    "### График кумулятивного среднего чека по группам"
   ]
  },
  {
   "cell_type": "code",
   "execution_count": 26,
   "id": "3986c777",
   "metadata": {},
   "outputs": [
    {
     "data": {
      "image/png": "[encoded data removed]",
      "text/plain": [
       "<Figure size 1080x360 with 1 Axes>"
      ]
     },
     "metadata": {
      "needs_background": "light"
     },
     "output_type": "display_data"
    }
   ],
   "source": [
    "plt.plot(cumulativeRevenueA['date'], cumulativeRevenueA['revenue']/cumulativeRevenueA['orders'], label='A')\n",
    "plt.plot(cumulativeRevenueB['date'], cumulativeRevenueB['revenue']/cumulativeRevenueB['orders'], label='B')\n",
    "plt.rcParams[\"figure.figsize\"] = [15, 5]\n",
    "plt.title('Кумулятивный средний чек')\n",
    "plt.xlabel('Дата')\n",
    "plt.ylabel('Значение среднего чека')\n",
    "plt.legend(); "
   ]
  },
  {
   "cell_type": "markdown",
   "id": "4747c00c",
   "metadata": {},
   "source": [
    "**Выводы**"
   ]
  },
  {
   "cell_type": "markdown",
   "id": "31eaea2f",
   "metadata": {},
   "source": [
    "Выручки стабилизируется к концу наблюдения. Но при этом, как и в пукте выше, наблюдается резкий скачок в группе B. Это может сигнализировать о появившемся в выборке дорогого Клиента. Который купил одну или более дорогую покупку"
   ]
  },
  {
   "cell_type": "markdown",
   "id": "9d58bf7f",
   "metadata": {},
   "source": [
    "###  График относительного изменения кумулятивного среднего чека группы B к группе A"
   ]
  },
  {
   "cell_type": "code",
   "execution_count": 27,
   "id": "ee45a041",
   "metadata": {},
   "outputs": [
    {
     "data": {
      "image/png": "[encoded data removed]",
      "text/plain": [
       "<Figure size 1080x360 with 1 Axes>"
      ]
     },
     "metadata": {
      "needs_background": "light"
     },
     "output_type": "display_data"
    }
   ],
   "source": [
    "# собираем данные в одном датафрейме\n",
    "mergedCumulativeRevenue = cumulativeRevenueA.merge(cumulativeRevenueB, left_on='date', right_on='date', how='left', suffixes=['A', 'B'])\n",
    "\n",
    "# cтроим отношение средних чеков\n",
    "plt.plot(mergedCumulativeRevenue['date'], (mergedCumulativeRevenue['revenueB']/mergedCumulativeRevenue['ordersB'])/(mergedCumulativeRevenue['revenueA']/mergedCumulativeRevenue['ordersA'])-1,label=\"Относительный прирост среднего группы B относительно группы A\")\n",
    "plt.title('Относительное изменение кумулятивного среднего чека')\n",
    "plt.xlabel('Дата')\n",
    "plt.ylabel('Отношение')\n",
    "# добавляем ось X\n",
    "plt.axhline(y=0, color='black', linestyle='--') \n",
    "plt.legend(); \n",
    "\n"
   ]
  },
  {
   "cell_type": "markdown",
   "id": "1640d3ba",
   "metadata": {},
   "source": [
    "**Выводы**"
   ]
  },
  {
   "cell_type": "markdown",
   "id": "f8a41322",
   "metadata": {},
   "source": [
    "Согласно данным графика - в некольких точках присутствуют резкие скачки. Это лишний раз доказывает наличие дорогих заказов"
   ]
  },
  {
   "cell_type": "markdown",
   "id": "4ce9eb56",
   "metadata": {},
   "source": [
    "###  График кумулятивной конверсии по группам"
   ]
  },
  {
   "cell_type": "code",
   "execution_count": 28,
   "id": "c2df11c6",
   "metadata": {},
   "outputs": [
    {
     "data": {
      "image/png": "[encoded data removed]",
      "text/plain": [
       "<Figure size 1080x360 with 1 Axes>"
      ]
     },
     "metadata": {
      "needs_background": "light"
     },
     "output_type": "display_data"
    }
   ],
   "source": [
    "# считаем кумулятивную конверсию\n",
    "cumulativeData['conversion'] = cumulativeData['orders']/cumulativeData['visitors']\n",
    "\n",
    "# отделяем данные по группе A\n",
    "cumulativeDataA = cumulativeData[cumulativeData['group']=='A']\n",
    "\n",
    "# отделяем данные по группе B\n",
    "cumulativeDataB = cumulativeData[cumulativeData['group']=='B']\n",
    "\n",
    "# строим графики\n",
    "plt.plot(cumulativeDataA['date'], cumulativeDataA['conversion'], label='A')\n",
    "plt.plot(cumulativeDataB['date'], cumulativeDataB['conversion'], label='B')\n",
    "plt.title('Кумулятивная конверсия по группам тестирования')\n",
    "plt.xlabel('Дата')\n",
    "plt.ylabel('Конверсия')\n",
    "\n",
    "# задаем масштаб осей\n",
    "plt.axis([(cumulativeData['date'].min()-timedelta(days=1)),(cumulativeData['date'].max()+timedelta(days=1)),0.025, 0.039])\n",
    "plt.legend(); \n",
    "\n",
    " "
   ]
  },
  {
   "cell_type": "markdown",
   "id": "c521f1cf",
   "metadata": {},
   "source": [
    "В начале исследования данные колебались, но к конце стабилизировались плюс\\минус симметрично относительно одного значения. При этом Группа В имеет небольшой всплеск  районе 17 августа. Также группа В ощутима по значению кумулятивной конверсии относительно группы А "
   ]
  },
  {
   "cell_type": "markdown",
   "id": "8f941ca3",
   "metadata": {},
   "source": [
    "###  График относительного изменения кумулятивной конверсии группы B к группе A. "
   ]
  },
  {
   "cell_type": "code",
   "execution_count": 29,
   "id": "b5be60a3",
   "metadata": {},
   "outputs": [
    {
     "data": {
      "text/plain": [
       "(18108.0, 18140.0, -0.15, 0.25)"
      ]
     },
     "execution_count": 29,
     "metadata": {},
     "output_type": "execute_result"
    },
    {
     "data": {
      "image/png": "[encoded data removed]",
      "text/plain": [
       "<Figure size 1080x360 with 1 Axes>"
      ]
     },
     "metadata": {
      "needs_background": "light"
     },
     "output_type": "display_data"
    }
   ],
   "source": [
    "mergedCumulativeConversions = cumulativeDataA[['date','conversion']].merge(cumulativeDataB[['date','conversion']], left_on='date', right_on='date', how='left', suffixes=['A', 'B'])\n",
    "\n",
    "plt.plot(mergedCumulativeConversions['date'], mergedCumulativeConversions['conversionB']/mergedCumulativeConversions['conversionA']-1, label=\"Относительный прирост конверсии группы B относительно группы A\")\n",
    "plt.title('Относительное изменение кумулятивной конверсии')\n",
    "plt.xlabel('Дата')\n",
    "plt.ylabel('Конверсия')\n",
    "plt.legend(); \n",
    "\n",
    "plt.axhline(y=0, color='black', linestyle='--')\n",
    "plt.axhline(y=0.1, color='grey', linestyle='--')\n",
    "plt.axis([(cumulativeData['date'].min()-timedelta(days=1)),(cumulativeData['date'].max()+timedelta(days=1)),-0.15, 0.25]) "
   ]
  },
  {
   "cell_type": "markdown",
   "id": "372c208b",
   "metadata": {},
   "source": [
    "Конверсия группы В в начале исследования ловольно сильно колебалась. Но с 6-7 августа начала расти. К концу исследуемого периода конверсия группы В значительно превышает группу А. Но будет проверить значения без аномального приророста выручки группы В"
   ]
  },
  {
   "cell_type": "markdown",
   "id": "84c456fd",
   "metadata": {},
   "source": [
    "### Точечный график количества заказов по пользователям"
   ]
  },
  {
   "cell_type": "markdown",
   "id": "6605a9e6",
   "metadata": {},
   "source": [
    "Для начала сгруппируем данные по уникальным заказам из датафрейма orders"
   ]
  },
  {
   "cell_type": "code",
   "execution_count": 30,
   "id": "3f39570b",
   "metadata": {},
   "outputs": [],
   "source": [
    "ordersByUsers = (\n",
    "    orders.groupby('visitorId', as_index=False)\n",
    "    .agg({'transactionId': 'nunique'})\n",
    ")\n",
    "ordersByUsers.columns = ['visitorId', 'orders']"
   ]
  },
  {
   "cell_type": "markdown",
   "id": "5638a368",
   "metadata": {},
   "source": [
    "Теперь строим график количсевта пользователей"
   ]
  },
  {
   "cell_type": "code",
   "execution_count": 31,
   "id": "7b27c33f",
   "metadata": {},
   "outputs": [
    {
     "data": {
      "image/png": "[encoded data removed]",
      "text/plain": [
       "<Figure size 1080x360 with 1 Axes>"
      ]
     },
     "metadata": {
      "needs_background": "light"
     },
     "output_type": "display_data"
    }
   ],
   "source": [
    "x_values = pd.Series(range(0,len(ordersByUsers)))\n",
    "\n",
    "plt.scatter(x_values, ordersByUsers['orders']) \n",
    "plt.title('Количесвто заказов по пользователям')\n",
    "plt.xlabel('Дата')\n",
    "plt.ylabel('Заказы');"
   ]
  },
  {
   "cell_type": "markdown",
   "id": "5e4e2a33",
   "metadata": {},
   "source": [
    "Стоит выделить пользователей с заказами не более 4. Проверим их долю"
   ]
  },
  {
   "cell_type": "markdown",
   "id": "58eeb451",
   "metadata": {},
   "source": [
    "###  95-й и 99-й перцентили количества заказов на пользователя"
   ]
  },
  {
   "cell_type": "code",
   "execution_count": 32,
   "id": "197629e2",
   "metadata": {},
   "outputs": [
    {
     "data": {
      "text/plain": [
       "array([2., 4.])"
      ]
     },
     "execution_count": 32,
     "metadata": {},
     "output_type": "execute_result"
    }
   ],
   "source": [
    "np.percentile(ordersByUsers['orders'], [95, 99])"
   ]
  },
  {
   "cell_type": "markdown",
   "id": "42f6246e",
   "metadata": {},
   "source": [
    "Не более чем 5% пользователй делали более 2х заказов. И не более 1% процента сделали более 4 заказов\n",
    "Разумным выглядит отделить пользователей, которые сделали не более 3х заказов"
   ]
  },
  {
   "cell_type": "markdown",
   "id": "8a6d990c",
   "metadata": {},
   "source": [
    "### Точечный график стоимостей заказов"
   ]
  },
  {
   "cell_type": "code",
   "execution_count": 33,
   "id": "dc44db91",
   "metadata": {},
   "outputs": [
    {
     "data": {
      "image/png": "[encoded data removed]",
      "text/plain": [
       "<Figure size 1080x360 with 1 Axes>"
      ]
     },
     "metadata": {
      "needs_background": "light"
     },
     "output_type": "display_data"
    }
   ],
   "source": [
    "x_values = pd.Series(range(0,len(orders['revenue'])))\n",
    "plt.scatter(x_values, orders['revenue']) \n",
    "plt.title('Стоимость заказов по пользователям')\n",
    "plt.xlabel('Дата')\n",
    "plt.ylabel('Цена');"
   ]
  },
  {
   "cell_type": "markdown",
   "id": "93043db4",
   "metadata": {},
   "source": [
    "Согласно графику, всего 2 заказа заметно выделются из общего числа. Проверим данные на 95-й и 99-й перцентили"
   ]
  },
  {
   "cell_type": "markdown",
   "id": "78936479",
   "metadata": {},
   "source": [
    "### 95-й и 99-й перцентили стоимости заказов"
   ]
  },
  {
   "cell_type": "code",
   "execution_count": 34,
   "id": "25e6603a",
   "metadata": {},
   "outputs": [
    {
     "data": {
      "text/plain": [
       "array([28000. , 58233.2])"
      ]
     },
     "execution_count": 34,
     "metadata": {},
     "output_type": "execute_result"
    }
   ],
   "source": [
    "np.percentile(orders['revenue'], [95, 99])"
   ]
  },
  {
   "cell_type": "markdown",
   "id": "22b52200",
   "metadata": {},
   "source": [
    "Согласно результатам, не более 5% всех заказов превышали стоимость в 28000 у.е., а также не более 1% превышали стоимость в 58233 у.е.\n",
    "Судя по графикам, показанным в прошлым пукте, выглядит разумным отделить данные по 99% перцентилю, так как значение в 59000 у.е. даже не видно на графике."
   ]
  },
  {
   "cell_type": "markdown",
   "id": "809b7737",
   "metadata": {},
   "source": [
    "###  Статистическая значимость различий в конверсии между группами по «сырым» данным"
   ]
  },
  {
   "cell_type": "markdown",
   "id": "a336fb54",
   "metadata": {},
   "source": [
    "Для начала объедим все известные данные в один фрейм"
   ]
  },
  {
   "cell_type": "code",
   "execution_count": 35,
   "id": "ae5bf01c",
   "metadata": {},
   "outputs": [
    {
     "name": "stdout",
     "output_type": "stream",
     "text": [
      "        date  ordersPerDateA  revenuePerDateA  ordersPerDateB  \\\n",
      "0 2019-08-01              24           148579              21   \n",
      "1 2019-08-02              20            93822              24   \n",
      "2 2019-08-03              24           112473              16   \n",
      "3 2019-08-04              16            70825              17   \n",
      "4 2019-08-05              25           124218              23   \n",
      "\n",
      "   revenuePerDateB  ordersCummulativeA  revenueCummulativeA  \\\n",
      "0           101217                  24               148579   \n",
      "1           165531                  44               242401   \n",
      "2           114248                  68               354874   \n",
      "3           108571                  84               425699   \n",
      "4            92428                 109               549917   \n",
      "\n",
      "   ordersCummulativeB  revenueCummulativeB  visitorsPerDateA  \\\n",
      "0                  21               101217               719   \n",
      "1                  45               266748               619   \n",
      "2                  61               380996               507   \n",
      "3                  78               489567               717   \n",
      "4                 101               581995               756   \n",
      "\n",
      "   visitorsPerDateB  visitorsCummulativeA  visitorsCummulativeB  \n",
      "0               713                   719                   713  \n",
      "1               581                  1338                  1294  \n",
      "2               509                  1845                  1803  \n",
      "3               770                  2562                  2573  \n",
      "4               707                  3318                  3280  \n"
     ]
    }
   ],
   "source": [
    "# Разделяем посетителей по группам А и В\n",
    "visitorsADaily = visitors[visitors['group'] == 'A'][['date', 'visitors']] # Выделяем группу А из пользователей \n",
    "visitorsADaily.columns = ['date', 'visitorsPerDateA']\n",
    "#Создаем фрейм с кумулятивными данными по посетителям исходя из ранее получено фрейма по группе А\n",
    "visitorsACummulative = visitorsADaily.apply(\n",
    "    lambda x: visitorsADaily[visitorsADaily['date'] <= x['date']].agg(\n",
    "        {'date': 'max', 'visitorsPerDateA': 'sum'}\n",
    "    ),\n",
    "    axis=1,\n",
    ")\n",
    "visitorsACummulative.columns = ['date', 'visitorsCummulativeA']\n",
    "\n",
    "# Аналогичную процеду делаем для пользователей группы В\n",
    "visitorsBDaily = visitors[visitors['group'] == 'B'][['date', 'visitors']]\n",
    "visitorsBDaily.columns = ['date', 'visitorsPerDateB']\n",
    "\n",
    "visitorsBCummulative = visitorsBDaily.apply(\n",
    "    lambda x: visitorsBDaily[visitorsBDaily['date'] <= x['date']].agg(\n",
    "        {'date': 'max', 'visitorsPerDateB': 'sum'}\n",
    "    ),\n",
    "    axis=1,\n",
    ")\n",
    "visitorsBCummulative.columns = ['date', 'visitorsCummulativeB']\n",
    "\n",
    "# Теперь для групп А и В создаем фреймы с заказами, сгруппированные по дате и с подсчетам суммы выручки и количсевта заказов по группам\n",
    "ordersADaily = (\n",
    "    orders[orders['group'] == 'A'][['date', 'transactionId', 'visitorId', 'revenue']]\n",
    "    .groupby('date', as_index=False)\n",
    "    .agg({'transactionId': pd.Series.nunique, 'revenue': 'sum'})\n",
    ")\n",
    "ordersADaily.columns = ['date', 'ordersPerDateA', 'revenuePerDateA']\n",
    "\n",
    "ordersACummulative = ordersADaily.apply(\n",
    "    lambda x: ordersADaily[ordersADaily['date'] <= x['date']].agg(\n",
    "        {'date': 'max', 'ordersPerDateA': 'sum', 'revenuePerDateA': 'sum'}\n",
    "    ),\n",
    "    axis=1,\n",
    ").sort_values(by=['date'])\n",
    "ordersACummulative.columns = [\n",
    "    'date',\n",
    "    'ordersCummulativeA',\n",
    "    'revenueCummulativeA',\n",
    "]\n",
    "\n",
    "ordersBDaily = (\n",
    "    orders[orders['group'] == 'B'][['date', 'transactionId', 'visitorId', 'revenue']]\n",
    "    .groupby('date', as_index=False)\n",
    "    .agg({'transactionId': pd.Series.nunique, 'revenue': 'sum'})\n",
    ")\n",
    "ordersBDaily.columns = ['date', 'ordersPerDateB', 'revenuePerDateB']\n",
    "\n",
    "ordersBCummulative = ordersBDaily.apply(\n",
    "    lambda x: ordersBDaily[ordersBDaily['date'] <= x['date']].agg(\n",
    "        {'date': 'max', 'ordersPerDateB': 'sum', 'revenuePerDateB': 'sum'}\n",
    "    ),\n",
    "    axis=1,\n",
    ").sort_values(by=['date'])\n",
    "ordersBCummulative.columns = [\n",
    "    'date',\n",
    "    'ordersCummulativeB',\n",
    "    'revenueCummulativeB',\n",
    "]\n",
    "\n",
    "data = (\n",
    "    ordersADaily.merge(\n",
    "        ordersBDaily, left_on='date', right_on='date', how='left'\n",
    "    )\n",
    "    .merge(ordersACummulative, left_on='date', right_on='date', how='left')\n",
    "    .merge(ordersBCummulative, left_on='date', right_on='date', how='left')\n",
    "    .merge(visitorsADaily, left_on='date', right_on='date', how='left')\n",
    "    .merge(visitorsBDaily, left_on='date', right_on='date', how='left')\n",
    "    .merge(visitorsACummulative, left_on='date', right_on='date', how='left')\n",
    "    .merge(visitorsBCummulative, left_on='date', right_on='date', how='left')\n",
    ")\n",
    "\n",
    "print(data.head(5))"
   ]
  },
  {
   "cell_type": "markdown",
   "id": "568fc77e",
   "metadata": {},
   "source": [
    "Так как выборки относительно небольшие, выборки являются независимыми. Будем использовать критерий Манна-Уитни. Он имеет достаточно большую мощность выборки. "
   ]
  },
  {
   "cell_type": "markdown",
   "id": "f704532f",
   "metadata": {},
   "source": [
    "Зададим уровень значимости в 5%"
   ]
  },
  {
   "cell_type": "code",
   "execution_count": 36,
   "id": "397057bd",
   "metadata": {},
   "outputs": [],
   "source": [
    "alpha = .05 # Критерий значимсоти"
   ]
  },
  {
   "cell_type": "markdown",
   "id": "b1974b6b",
   "metadata": {},
   "source": [
    "Сформулируем гипотезы. \n",
    "\n",
    "Нулевая гипотеза: ***различий в средней конверсии между группами нет.***\n",
    "Альтернативная гипотеза: ***различия в средней конверсии между группами есть.***"
   ]
  },
  {
   "cell_type": "code",
   "execution_count": 37,
   "id": "731b778e",
   "metadata": {},
   "outputs": [
    {
     "name": "stdout",
     "output_type": "stream",
     "text": [
      "P-value: 0.017\n",
      "Относительный прирост конверсии группы B по отношению к группе A: 0.138\n",
      "По неочищенным данным в конверсии групп A и B - разница является статистически значимой\n"
     ]
    }
   ],
   "source": [
    "# Создадим фрейм где пользвоатели делали хотя бы 1 заказ для 2х групп\n",
    "# Группа А\n",
    "ordersByUsersA = (\n",
    "    orders[orders['group'] == 'A']\n",
    "    .groupby('visitorId', as_index=False)\n",
    "    .agg({'transactionId': pd.Series.nunique})\n",
    ")\n",
    "ordersByUsersA.columns = ['visitorId', 'orders']\n",
    "# Грпуппа В\n",
    "ordersByUsersB = (\n",
    "    orders[orders['group'] == 'B']\n",
    "    .groupby('visitorId', as_index=False)\n",
    "    .agg({'transactionId': pd.Series.nunique})\n",
    ")\n",
    "ordersByUsersB.columns = ['visitorId', 'orders']\n",
    "\n",
    "#Создадим переменные, где пользователям из разных групп будет соответствовать количество заказов. \n",
    "#Тем, кто ничего не заказал, будут соответствовать нули. Это нужно, чтобы подготовить \n",
    "# выборки к проверке критерием Манна-Уитни.\n",
    "sampleA = pd.concat(\n",
    "    [\n",
    "        ordersByUsersA['orders'],\n",
    "        pd.Series(\n",
    "            0,\n",
    "            index=np.arange(\n",
    "                data['visitorsPerDateA'].sum() - len(ordersByUsersA['orders'])\n",
    "            ),\n",
    "            name='orders',\n",
    "        ),\n",
    "    ],\n",
    "    axis=0,\n",
    ")\n",
    "\n",
    "sampleB = pd.concat(\n",
    "    [\n",
    "        ordersByUsersB['orders'],\n",
    "        pd.Series(\n",
    "            0,\n",
    "            index=np.arange(\n",
    "                data['visitorsPerDateB'].sum() - len(ordersByUsersB['orders'])\n",
    "            ),\n",
    "            name='orders',\n",
    "        ),\n",
    "    ],\n",
    "    axis=0,\n",
    ")\n",
    "\n",
    "print(\"P-value: {0:.3f}\".format(st.mannwhitneyu(sampleA, sampleB)[1]))\n",
    "\n",
    "print(\"Относительный прирост конверсии группы B по отношению к группе A: {0:.3f}\".format(sampleB.mean() / sampleA.mean() - 1))\n",
    "if st.mannwhitneyu(sampleA, sampleB)[1] < alpha:\n",
    "    print('По неочищенным данным в конверсии групп A и B - разница является статистически значимой')\n",
    "else:\n",
    "    print('По неочищенным данным  - различий в конверсии групп A и B нет')"
   ]
  },
  {
   "cell_type": "markdown",
   "id": "b1d583bf",
   "metadata": {},
   "source": [
    "**Вывод**"
   ]
  },
  {
   "cell_type": "markdown",
   "id": "d562cdb0",
   "metadata": {},
   "source": [
    "Согласно результатам теста, разница конверсий между группами с неочищенными данными - ***статистически значимая***, а значит, ***отвергаем нулевую гипотезу***"
   ]
  },
  {
   "cell_type": "markdown",
   "id": "bdaaeba2",
   "metadata": {},
   "source": [
    "Относительная разница средней конверсии групп А и В составляет 13%. "
   ]
  },
  {
   "cell_type": "markdown",
   "id": "a2d315dc",
   "metadata": {},
   "source": [
    "###  Статистическая значимость различий в среднем чеке заказа между группами по «сырым» данным"
   ]
  },
  {
   "cell_type": "markdown",
   "id": "4c0b1053",
   "metadata": {},
   "source": [
    "Сформулируем гипотезы. Нулевая гипотеза: различий в среднем чеке между группами нет. Альтернативная гипотеза: различия в среднем чеке между группами есть."
   ]
  },
  {
   "cell_type": "code",
   "execution_count": 38,
   "id": "a7a411b1",
   "metadata": {},
   "outputs": [
    {
     "name": "stdout",
     "output_type": "stream",
     "text": [
      "P-value:0.729\n",
      "Относительный прирост среднего чека группы B по отношению к группе A: 0.259\n",
      "По неочищенным данным  - различий в конверсии групп A и B нет\n"
     ]
    }
   ],
   "source": [
    "print('P-value:{0:.3f}'.format(st.mannwhitneyu(orders[orders['group']=='A']['revenue'], orders[orders['group']=='B']['revenue'])[1]))\n",
    "print('Относительный прирост среднего чека группы B по отношению к группе A: {0:.3f}'.format(orders[orders['group']=='B']['revenue'].mean()/orders[orders['group']=='A']['revenue'].mean()-1))\n",
    "if st.mannwhitneyu(orders[orders['group']=='A']['revenue'], orders[orders['group']=='B']['revenue'])[1] < alpha:\n",
    "    print('По неочищенным данным в среднем чеке групп A и B - разница является статистически значимой')\n",
    "else:\n",
    "    print('По неочищенным данным  - различий в конверсии групп A и B нет')"
   ]
  },
  {
   "cell_type": "markdown",
   "id": "61db5480",
   "metadata": {},
   "source": [
    "**Вывод**"
   ]
  },
  {
   "cell_type": "markdown",
   "id": "7dc54e81",
   "metadata": {},
   "source": [
    "Соглассно тесту, статистичсекой разницы в среднем чеке между группами ***нет***. Оставляем ***нулевую гипотезу***"
   ]
  },
  {
   "cell_type": "markdown",
   "id": "11c15e80",
   "metadata": {},
   "source": [
    "При этом относительным прирост выручки составляет порядка 25%. Будем в дальнейшем исследовать эти показатели, но уже по отфильтрованным данным"
   ]
  },
  {
   "cell_type": "markdown",
   "id": "479706d9",
   "metadata": {},
   "source": [
    "### Статистическая значимость различий в конверсии между группами по «очищенным» данным"
   ]
  },
  {
   "cell_type": "markdown",
   "id": "d7139781",
   "metadata": {},
   "source": [
    "Исходя из прерыдыщих исследований, при поиске 99 и 95 перцентия, было выявленр, что границей фильтра значений стоит выбрать:\n",
    "* 4 заказа\n",
    "* стоимость заказа 59000"
   ]
  },
  {
   "cell_type": "markdown",
   "id": "7724bce1",
   "metadata": {},
   "source": [
    "Сформулируем гипотезы. \n",
    "\n",
    "Нулевая гипотеза: ***различий в средней конверсии между \"чистыми\" группами нет.***\n",
    "Альтернативная гипотеза: ***различия в средней конверсии между \"чистыми\" группами есть.***"
   ]
  },
  {
   "cell_type": "markdown",
   "id": "d3a385fa",
   "metadata": {},
   "source": [
    "Отфильтруем пользователей, которые выделяются и найдем их количество"
   ]
  },
  {
   "cell_type": "code",
   "execution_count": 39,
   "id": "902710ad",
   "metadata": {
    "scrolled": true
   },
   "outputs": [
    {
     "name": "stdout",
     "output_type": "stream",
     "text": [
      "1099     148427295\n",
      "949      887908475\n",
      "744      888512513\n",
      "1103    1164614297\n",
      "1136    1307669133\n",
      "Name: visitorId, dtype: int64\n",
      "15\n"
     ]
    }
   ],
   "source": [
    "usersWithManyOrders = pd.concat(\n",
    "    [\n",
    "        ordersByUsersA[ordersByUsersA['orders'] > np.percentile(ordersByUsers['orders'], [95, 99])[1]]['visitorId'], #Фильтруем группу А с заказами более 3\n",
    "        ordersByUsersB[ordersByUsersB['orders'] > np.percentile(ordersByUsers['orders'], [95, 99])[1]]['visitorId'], #Фильтруем группу В с заказами более 3\n",
    "    ],\n",
    "    axis=0,\n",
    ")\n",
    "usersWithExpensiveOrders = orders[orders['revenue'] > np.percentile(orders['revenue'], [95, 99])[1]]['visitorId'] #Фильтруем суммы заказов более 59000\n",
    "abnormalUsers = (\n",
    "    pd.concat([usersWithManyOrders, usersWithExpensiveOrders], axis=0)\n",
    "    .drop_duplicates()\n",
    "    .sort_values()\n",
    ")\n",
    "print(abnormalUsers.head(5))\n",
    "print(abnormalUsers.shape[0])"
   ]
  },
  {
   "cell_type": "markdown",
   "id": "d6677c45",
   "metadata": {},
   "source": [
    "Согласно результату - всего 15 пользователй выбиваются из общего чилса. Отфильтруем этих пользователей"
   ]
  },
  {
   "cell_type": "code",
   "execution_count": 40,
   "id": "0188f93e",
   "metadata": {},
   "outputs": [],
   "source": [
    "sampleAFiltered = pd.concat(\n",
    "    [\n",
    "        ordersByUsersA[\n",
    "            np.logical_not(ordersByUsersA['visitorId'].isin(abnormalUsers))#Если пользователь НЕ в списке фильтра\n",
    "        ]['orders'],\n",
    "        pd.Series( #Добавляем заказы и заполняем 0 пропуски\n",
    "            0,\n",
    "            index=np.arange(\n",
    "                data['visitorsPerDateA'].sum() - len(ordersByUsersA['orders'])\n",
    "            ),\n",
    "            name='orders',\n",
    "        ),\n",
    "    ],\n",
    "    axis=0,\n",
    ")\n",
    "\n",
    "sampleBFiltered = pd.concat(\n",
    "    [\n",
    "        ordersByUsersB[\n",
    "            np.logical_not(ordersByUsersB['visitorId'].isin(abnormalUsers))\n",
    "        ]['orders'],\n",
    "        pd.Series(\n",
    "            0,\n",
    "            index=np.arange(\n",
    "                data['visitorsPerDateB'].sum() - len(ordersByUsersB['orders'])\n",
    "            ),\n",
    "            name='orders',\n",
    "        ),\n",
    "    ],\n",
    "    axis=0,\n",
    ")"
   ]
  },
  {
   "cell_type": "code",
   "execution_count": 41,
   "id": "16bfe647",
   "metadata": {
    "scrolled": true
   },
   "outputs": [
    {
     "name": "stdout",
     "output_type": "stream",
     "text": [
      "P-Value:0.014\n",
      "Относительный прирост конверсии группы В по отношени к группе А: 0.153\n",
      "По фильтрованным данным в конверсии групп A и B - разница является статистически значимой\n"
     ]
    }
   ],
   "source": [
    "print('P-Value:{0:.3f}'.format(st.mannwhitneyu(sampleAFiltered, sampleBFiltered)[1]))\n",
    "print('Относительный прирост конверсии группы В по отношени к группе А: {0:.3f}'.format(sampleBFiltered.mean()/sampleAFiltered.mean()-1))\n",
    "if st.mannwhitneyu(sampleAFiltered, sampleBFiltered)[1] < alpha:\n",
    "    print('По фильтрованным данным в конверсии групп A и B - разница является статистически значимой')\n",
    "else:\n",
    "    print('По фильтрованным данным  - различий в конверсии групп A и B нет')"
   ]
  },
  {
   "cell_type": "markdown",
   "id": "f74232ab",
   "metadata": {},
   "source": [
    "**Вывод**"
   ]
  },
  {
   "cell_type": "markdown",
   "id": "c319ebaf",
   "metadata": {},
   "source": [
    "Согласно \"чистым\" данным, разница коверсий все еще является ***статитсически значимой*** и ***отергаем нулевую гипотизу***"
   ]
  },
  {
   "cell_type": "markdown",
   "id": "7c3cfad1",
   "metadata": {},
   "source": [
    "###  Различий в среднем чеке заказа между группами по «очищенным» данным"
   ]
  },
  {
   "cell_type": "markdown",
   "id": "ce1adac9",
   "metadata": {},
   "source": [
    "Сформулируем гипотезы. Нулевая гипотеза: **различий в среднем чеке по \"чистым\" данным между группами нет.** Альтернативная гипотеза: **различия в среднем чеке \"чистым\" данным между группами есть.**"
   ]
  },
  {
   "cell_type": "code",
   "execution_count": 42,
   "id": "c029eea9",
   "metadata": {
    "scrolled": true
   },
   "outputs": [
    {
     "name": "stdout",
     "output_type": "stream",
     "text": [
      "P-value: 0.851\n",
      "Относительный прирост -0.006\n",
      "По фильтрованным данным  - различий в среднем чеке групп A и B нет\n"
     ]
    }
   ],
   "source": [
    "st_pvalue =st.mannwhitneyu(\n",
    "            orders[\n",
    "                np.logical_and(\n",
    "                    orders['group'] == 'A',\n",
    "                    np.logical_not(orders['visitorId'].isin(abnormalUsers)), #также как и в прошлом пунтке, фильтруем по наличию пользователя в списке фильтрации\n",
    "                )\n",
    "            ]['revenue'],\n",
    "            orders[\n",
    "                np.logical_and(\n",
    "                    orders['group'] == 'B',\n",
    "                    np.logical_not(orders['visitorId'].isin(abnormalUsers)),\n",
    "                )\n",
    "            ]['revenue'],\n",
    "        )[1]\n",
    "\n",
    "print('P-value: {0:.3f}'.format(st_pvalue))\n",
    "\n",
    "st_def=(\n",
    "    orders[\n",
    "            np.logical_and(\n",
    "                orders['group'] == 'B',\n",
    "                np.logical_not(orders['visitorId'].isin(abnormalUsers)),\n",
    "            )\n",
    "        ]['revenue'].mean()\n",
    "        / orders[\n",
    "            np.logical_and(\n",
    "                orders['group'] == 'A',\n",
    "                np.logical_not(orders['visitorId'].isin(abnormalUsers)),\n",
    "            )\n",
    "        ]['revenue'].mean()\n",
    "        - 1\n",
    ")\n",
    "\n",
    "print(\"Относительный прирост {0:.3f}\".format(st_def))\n",
    "if st_pvalue < alpha:\n",
    "    print('По фильтрованным данным среднем чеке групп A и B - разница является статистически значимой')\n",
    "else:\n",
    "    print('По фильтрованным данным  - различий в среднем чеке групп A и B нет')"
   ]
  },
  {
   "cell_type": "markdown",
   "id": "12185740",
   "metadata": {},
   "source": [
    "**Вывод**"
   ]
  },
  {
   "cell_type": "markdown",
   "id": "8fd36bf5",
   "metadata": {},
   "source": [
    "Согласно результатам - статистичсекой разницы между группами ***нет***"
   ]
  },
  {
   "cell_type": "markdown",
   "id": "dd78ee85",
   "metadata": {},
   "source": [
    "## Выводы"
   ]
  },
  {
   "cell_type": "markdown",
   "id": "6cc0fb5d",
   "metadata": {},
   "source": [
    "Полученные результаты:\n",
    "* Статистичсекая разница конверсий двух групп по \"сырым\" и \"чистым\" данным есть. Отношение средней конверсии груп порядка 15%\n",
    "* Статистичсекая разница между средними чеками по \"сырым\" и \"чистым\" данным отсуствует в обоих случаях. \n",
    "* График различия конверсии между группами сообщает, что результаты группы B лучше группы A.  "
   ]
  },
  {
   "cell_type": "code",
   "execution_count": 43,
   "id": "d8f05e16",
   "metadata": {},
   "outputs": [
    {
     "data": {
      "image/png": "[encoded data removed]",
      "text/plain": [
       "<Figure size 1080x360 with 1 Axes>"
      ]
     },
     "metadata": {
      "needs_background": "light"
     },
     "output_type": "display_data"
    }
   ],
   "source": [
    "plt.plot(mergedCumulativeConversions['date'], mergedCumulativeConversions['conversionB']/mergedCumulativeConversions['conversionA']-1, label=\"Относительный прирост конверсии группы B относительно группы A\")\n",
    "plt.xlabel('Дата')\n",
    "plt.ylabel('Относительный прирост конверсии')\n",
    "plt.title('Относительный прирост конверсии')\n",
    "plt.legend()\n",
    "\n",
    "plt.axhline(y=0, color='black', linestyle='--')\n",
    "plt.axhline(y=-0.1, color='grey', linestyle='--')\n",
    "plt.axis([(cumulativeData['date'].min()-timedelta(days=1)),(cumulativeData['date'].max()+timedelta(days=1)),-0.15, 0.25]); "
   ]
  },
  {
   "cell_type": "markdown",
   "id": "30d9a7e9",
   "metadata": {},
   "source": [
    "* Прирост среднего чека в группе В заметн0 выше, чем в группе А, но эти данные расходятся с фильррованными значениями. Срений чек групп А и В схож, по фильтрованным данным"
   ]
  },
  {
   "cell_type": "markdown",
   "id": "c0899fd4",
   "metadata": {},
   "source": [
    "***Вывод***"
   ]
  },
  {
   "cell_type": "markdown",
   "id": "17eec305",
   "metadata": {},
   "source": [
    "Исходя из обнаруженных фактов, тест следует остановить и признать его успешным - **Группа В продесомстрировала лучшие результаты**. По графикам относительной коверсии видно, что результат группы В зафиксирован. При этом прирост коверсии признан статистически значимым. Как по сырым, так и по фильтрованным данным. "
   ]
  }
 ],
 "metadata": {
  "ExecuteTimeLog": [
   {
    "duration": 126,
    "start_time": "2022-07-29T12:20:15.855Z"
   },
   {
    "duration": 985,
    "start_time": "2022-07-29T12:26:28.459Z"
   },
   {
    "duration": 100,
    "start_time": "2022-07-29T12:26:29.446Z"
   },
   {
    "duration": 14,
    "start_time": "2022-07-29T12:26:29.547Z"
   },
   {
    "duration": 13,
    "start_time": "2022-07-29T12:26:29.562Z"
   },
   {
    "duration": 11,
    "start_time": "2022-07-29T12:26:29.577Z"
   },
   {
    "duration": 11,
    "start_time": "2022-07-29T12:26:29.589Z"
   },
   {
    "duration": 18,
    "start_time": "2022-07-29T12:26:29.602Z"
   },
   {
    "duration": 11,
    "start_time": "2022-07-29T12:26:29.622Z"
   },
   {
    "duration": 12,
    "start_time": "2022-07-29T12:26:29.635Z"
   },
   {
    "duration": 6,
    "start_time": "2022-07-29T12:26:29.649Z"
   },
   {
    "duration": 6,
    "start_time": "2022-07-29T12:26:29.673Z"
   },
   {
    "duration": 8,
    "start_time": "2022-07-29T12:26:29.681Z"
   },
   {
    "duration": 12,
    "start_time": "2022-07-29T12:26:29.691Z"
   },
   {
    "duration": 9,
    "start_time": "2022-07-29T12:26:29.706Z"
   },
   {
    "duration": 14,
    "start_time": "2022-07-29T12:26:29.716Z"
   },
   {
    "duration": 10,
    "start_time": "2022-07-29T12:26:29.732Z"
   },
   {
    "duration": 287,
    "start_time": "2022-07-29T12:26:29.744Z"
   },
   {
    "duration": 231,
    "start_time": "2022-07-29T12:26:30.033Z"
   },
   {
    "duration": 182,
    "start_time": "2022-07-29T12:26:30.266Z"
   },
   {
    "duration": 331,
    "start_time": "2022-07-29T12:26:30.449Z"
   },
   {
    "duration": 184,
    "start_time": "2022-07-29T12:26:30.782Z"
   },
   {
    "duration": 370,
    "start_time": "2022-07-29T12:26:30.971Z"
   },
   {
    "duration": 6,
    "start_time": "2022-07-29T12:26:31.342Z"
   },
   {
    "duration": 176,
    "start_time": "2022-07-29T12:26:31.350Z"
   },
   {
    "duration": 5,
    "start_time": "2022-07-29T12:26:31.528Z"
   },
   {
    "duration": 165,
    "start_time": "2022-07-29T12:26:31.535Z"
   },
   {
    "duration": 5,
    "start_time": "2022-07-29T12:26:31.702Z"
   },
   {
    "duration": 211,
    "start_time": "2022-07-29T12:26:31.708Z"
   },
   {
    "duration": 158,
    "start_time": "2022-07-29T12:26:31.921Z"
   },
   {
    "duration": 11,
    "start_time": "2022-07-29T12:26:32.080Z"
   },
   {
    "duration": 8,
    "start_time": "2022-07-29T12:26:32.093Z"
   },
   {
    "duration": 11,
    "start_time": "2022-07-29T12:26:32.102Z"
   },
   {
    "duration": 41,
    "start_time": "2022-07-29T12:26:32.115Z"
   },
   {
    "duration": 21,
    "start_time": "2022-07-29T12:26:32.157Z"
   },
   {
    "duration": 302,
    "start_time": "2022-07-29T12:26:32.180Z"
   },
   {
    "duration": 1013,
    "start_time": "2022-07-30T09:27:27.530Z"
   },
   {
    "duration": 91,
    "start_time": "2022-07-30T09:27:28.545Z"
   },
   {
    "duration": 15,
    "start_time": "2022-07-30T09:27:28.638Z"
   },
   {
    "duration": 15,
    "start_time": "2022-07-30T09:27:28.655Z"
   },
   {
    "duration": 12,
    "start_time": "2022-07-30T09:27:28.671Z"
   },
   {
    "duration": 11,
    "start_time": "2022-07-30T09:27:28.685Z"
   },
   {
    "duration": 12,
    "start_time": "2022-07-30T09:27:28.698Z"
   },
   {
    "duration": 9,
    "start_time": "2022-07-30T09:27:28.712Z"
   },
   {
    "duration": 23,
    "start_time": "2022-07-30T09:27:28.722Z"
   },
   {
    "duration": 7,
    "start_time": "2022-07-30T09:27:28.748Z"
   },
   {
    "duration": 10,
    "start_time": "2022-07-30T09:27:28.756Z"
   },
   {
    "duration": 10,
    "start_time": "2022-07-30T09:27:28.768Z"
   },
   {
    "duration": 11,
    "start_time": "2022-07-30T09:27:28.779Z"
   },
   {
    "duration": 7,
    "start_time": "2022-07-30T09:27:28.791Z"
   },
   {
    "duration": 6,
    "start_time": "2022-07-30T09:27:28.799Z"
   },
   {
    "duration": 32,
    "start_time": "2022-07-30T09:27:28.806Z"
   },
   {
    "duration": 20,
    "start_time": "2022-07-30T09:27:28.840Z"
   },
   {
    "duration": 14,
    "start_time": "2022-07-30T09:27:28.862Z"
   },
   {
    "duration": 19,
    "start_time": "2022-07-30T09:27:28.878Z"
   },
   {
    "duration": 8,
    "start_time": "2022-07-30T09:27:28.899Z"
   },
   {
    "duration": 30,
    "start_time": "2022-07-30T09:27:28.909Z"
   },
   {
    "duration": 23,
    "start_time": "2022-07-30T09:27:28.940Z"
   },
   {
    "duration": 31,
    "start_time": "2022-07-30T09:27:28.965Z"
   },
   {
    "duration": 290,
    "start_time": "2022-07-30T09:27:28.997Z"
   },
   {
    "duration": 264,
    "start_time": "2022-07-30T09:27:29.289Z"
   },
   {
    "duration": 214,
    "start_time": "2022-07-30T09:27:29.555Z"
   },
   {
    "duration": 313,
    "start_time": "2022-07-30T09:27:29.771Z"
   },
   {
    "duration": 236,
    "start_time": "2022-07-30T09:27:30.089Z"
   },
   {
    "duration": 363,
    "start_time": "2022-07-30T09:27:30.328Z"
   },
   {
    "duration": 6,
    "start_time": "2022-07-30T09:27:30.693Z"
   },
   {
    "duration": 151,
    "start_time": "2022-07-30T09:27:30.700Z"
   },
   {
    "duration": 5,
    "start_time": "2022-07-30T09:27:30.853Z"
   },
   {
    "duration": 165,
    "start_time": "2022-07-30T09:27:30.860Z"
   },
   {
    "duration": 11,
    "start_time": "2022-07-30T09:27:31.026Z"
   },
   {
    "duration": 218,
    "start_time": "2022-07-30T09:27:31.039Z"
   },
   {
    "duration": 3,
    "start_time": "2022-07-30T09:27:31.259Z"
   },
   {
    "duration": 185,
    "start_time": "2022-07-30T09:27:31.264Z"
   },
   {
    "duration": 13,
    "start_time": "2022-07-30T09:27:31.451Z"
   },
   {
    "duration": 10,
    "start_time": "2022-07-30T09:27:31.466Z"
   },
   {
    "duration": 10,
    "start_time": "2022-07-30T09:27:31.478Z"
   },
   {
    "duration": 60,
    "start_time": "2022-07-30T09:27:31.489Z"
   },
   {
    "duration": 13,
    "start_time": "2022-07-30T09:27:31.551Z"
   },
   {
    "duration": 328,
    "start_time": "2022-07-30T09:27:31.566Z"
   },
   {
    "duration": 8,
    "start_time": "2022-07-30T09:27:53.901Z"
   },
   {
    "duration": 262,
    "start_time": "2022-07-30T09:34:49.584Z"
   },
   {
    "duration": 195,
    "start_time": "2022-07-30T09:35:17.135Z"
   },
   {
    "duration": 207,
    "start_time": "2022-07-30T09:35:24.495Z"
   },
   {
    "duration": 334,
    "start_time": "2022-07-30T09:36:08.448Z"
   },
   {
    "duration": 197,
    "start_time": "2022-07-30T09:36:45.542Z"
   },
   {
    "duration": 14,
    "start_time": "2022-07-30T09:42:41.258Z"
   },
   {
    "duration": 1121,
    "start_time": "2022-07-30T10:03:58.072Z"
   },
   {
    "duration": 149,
    "start_time": "2022-07-30T10:03:59.196Z"
   },
   {
    "duration": 47,
    "start_time": "2022-07-30T10:03:59.346Z"
   },
   {
    "duration": 49,
    "start_time": "2022-07-30T10:03:59.396Z"
   },
   {
    "duration": 13,
    "start_time": "2022-07-30T10:03:59.447Z"
   },
   {
    "duration": 12,
    "start_time": "2022-07-30T10:03:59.461Z"
   },
   {
    "duration": 15,
    "start_time": "2022-07-30T10:03:59.475Z"
   },
   {
    "duration": 12,
    "start_time": "2022-07-30T10:03:59.491Z"
   },
   {
    "duration": 20,
    "start_time": "2022-07-30T10:03:59.506Z"
   },
   {
    "duration": 7,
    "start_time": "2022-07-30T10:03:59.529Z"
   },
   {
    "duration": 11,
    "start_time": "2022-07-30T10:03:59.538Z"
   },
   {
    "duration": 11,
    "start_time": "2022-07-30T10:03:59.550Z"
   },
   {
    "duration": 13,
    "start_time": "2022-07-30T10:03:59.562Z"
   },
   {
    "duration": 6,
    "start_time": "2022-07-30T10:03:59.577Z"
   },
   {
    "duration": 6,
    "start_time": "2022-07-30T10:03:59.584Z"
   },
   {
    "duration": 6,
    "start_time": "2022-07-30T10:03:59.592Z"
   },
   {
    "duration": 5,
    "start_time": "2022-07-30T10:03:59.623Z"
   },
   {
    "duration": 15,
    "start_time": "2022-07-30T10:03:59.630Z"
   },
   {
    "duration": 11,
    "start_time": "2022-07-30T10:03:59.646Z"
   },
   {
    "duration": 6,
    "start_time": "2022-07-30T10:03:59.659Z"
   },
   {
    "duration": 6,
    "start_time": "2022-07-30T10:05:15.997Z"
   },
   {
    "duration": 8,
    "start_time": "2022-07-30T10:05:23.434Z"
   },
   {
    "duration": 8,
    "start_time": "2022-07-30T10:06:04.991Z"
   },
   {
    "duration": 8,
    "start_time": "2022-07-30T10:07:26.270Z"
   },
   {
    "duration": 57,
    "start_time": "2022-07-30T10:08:30.249Z"
   },
   {
    "duration": 1068,
    "start_time": "2022-07-30T10:14:04.242Z"
   },
   {
    "duration": 97,
    "start_time": "2022-07-30T10:14:05.312Z"
   },
   {
    "duration": 15,
    "start_time": "2022-07-30T10:14:05.411Z"
   },
   {
    "duration": 15,
    "start_time": "2022-07-30T10:14:05.428Z"
   },
   {
    "duration": 11,
    "start_time": "2022-07-30T10:14:05.445Z"
   },
   {
    "duration": 18,
    "start_time": "2022-07-30T10:14:05.457Z"
   },
   {
    "duration": 20,
    "start_time": "2022-07-30T10:14:05.476Z"
   },
   {
    "duration": 11,
    "start_time": "2022-07-30T10:14:05.497Z"
   },
   {
    "duration": 14,
    "start_time": "2022-07-30T10:14:05.510Z"
   },
   {
    "duration": 5,
    "start_time": "2022-07-30T10:14:05.527Z"
   },
   {
    "duration": 11,
    "start_time": "2022-07-30T10:14:05.534Z"
   },
   {
    "duration": 11,
    "start_time": "2022-07-30T10:14:05.546Z"
   },
   {
    "duration": 13,
    "start_time": "2022-07-30T10:14:05.558Z"
   },
   {
    "duration": 10,
    "start_time": "2022-07-30T10:14:05.573Z"
   },
   {
    "duration": 11,
    "start_time": "2022-07-30T10:14:05.584Z"
   },
   {
    "duration": 8,
    "start_time": "2022-07-30T10:14:05.596Z"
   },
   {
    "duration": 4,
    "start_time": "2022-07-30T10:14:05.624Z"
   },
   {
    "duration": 9,
    "start_time": "2022-07-30T10:14:05.630Z"
   },
   {
    "duration": 12,
    "start_time": "2022-07-30T10:14:05.640Z"
   },
   {
    "duration": 5,
    "start_time": "2022-07-30T10:14:05.654Z"
   },
   {
    "duration": 10,
    "start_time": "2022-07-30T10:14:05.661Z"
   },
   {
    "duration": 14,
    "start_time": "2022-07-30T10:14:05.673Z"
   },
   {
    "duration": 38,
    "start_time": "2022-07-30T10:14:05.689Z"
   },
   {
    "duration": 269,
    "start_time": "2022-07-30T10:14:05.729Z"
   },
   {
    "duration": 294,
    "start_time": "2022-07-30T10:14:06.000Z"
   },
   {
    "duration": 218,
    "start_time": "2022-07-30T10:14:06.296Z"
   },
   {
    "duration": 368,
    "start_time": "2022-07-30T10:14:06.516Z"
   },
   {
    "duration": 237,
    "start_time": "2022-07-30T10:14:06.888Z"
   },
   {
    "duration": 395,
    "start_time": "2022-07-30T10:14:07.127Z"
   },
   {
    "duration": 7,
    "start_time": "2022-07-30T10:14:07.524Z"
   },
   {
    "duration": 154,
    "start_time": "2022-07-30T10:14:07.533Z"
   },
   {
    "duration": 5,
    "start_time": "2022-07-30T10:14:07.688Z"
   },
   {
    "duration": 172,
    "start_time": "2022-07-30T10:14:07.694Z"
   },
   {
    "duration": 4,
    "start_time": "2022-07-30T10:14:07.868Z"
   },
   {
    "duration": 236,
    "start_time": "2022-07-30T10:14:07.874Z"
   },
   {
    "duration": 3,
    "start_time": "2022-07-30T10:14:08.111Z"
   },
   {
    "duration": 195,
    "start_time": "2022-07-30T10:14:08.115Z"
   },
   {
    "duration": 23,
    "start_time": "2022-07-30T10:14:08.312Z"
   },
   {
    "duration": 16,
    "start_time": "2022-07-30T10:14:08.337Z"
   },
   {
    "duration": 10,
    "start_time": "2022-07-30T10:14:08.355Z"
   },
   {
    "duration": 58,
    "start_time": "2022-07-30T10:14:08.366Z"
   },
   {
    "duration": 15,
    "start_time": "2022-07-30T10:14:08.425Z"
   },
   {
    "duration": 350,
    "start_time": "2022-07-30T10:14:08.441Z"
   }
  ],
  "kernelspec": {
   "display_name": "Python 3 (ipykernel)",
   "language": "python",
   "name": "python3"
  },
  "language_info": {
   "codemirror_mode": {
    "name": "ipython",
    "version": 3
   },
   "file_extension": ".py",
   "mimetype": "text/x-python",
   "name": "python",
   "nbconvert_exporter": "python",
   "pygments_lexer": "ipython3",
   "version": "3.9.7"
  },
  "toc": {
   "base_numbering": 1,
   "nav_menu": {},
   "number_sections": true,
   "sideBar": true,
   "skip_h1_title": true,
   "title_cell": "Table of Contents",
   "title_sidebar": "Contents",
   "toc_cell": false,
   "toc_position": {},
   "toc_section_display": true,
   "toc_window_display": false
  }
 },
 "nbformat": 4,
 "nbformat_minor": 5
}
