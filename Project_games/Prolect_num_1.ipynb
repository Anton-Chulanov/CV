{
 "cells": [
  {
   "cell_type": "markdown",
   "id": "eaa923ef",
   "metadata": {},
   "source": [
    "# Закономерности, определяющие успешность игры"
   ]
  },
  {
   "cell_type": "markdown",
   "id": "dd4acfd1",
   "metadata": {},
   "source": [
    "## Задача"
   ]
  },
  {
   "cell_type": "markdown",
   "id": "f290390a",
   "metadata": {},
   "source": [
    "**Выявить определяющие успешность игры закономерности.**"
   ]
  },
  {
   "cell_type": "markdown",
   "id": "f79b0022",
   "metadata": {},
   "source": [
    "## Исходные данные"
   ]
  },
  {
   "cell_type": "code",
   "execution_count": 1,
   "id": "8e4ec0f3",
   "metadata": {},
   "outputs": [],
   "source": [
    "import pandas as pd # импортируем библиотеку Пандас\n",
    "import matplotlib.pyplot as plt\n",
    "import seaborn as sns #Импортируем библиотеку для построения данных\n",
    "from scipy import stats as st"
   ]
  },
  {
   "cell_type": "code",
   "execution_count": 3,
   "id": "19338a42",
   "metadata": {},
   "outputs": [],
   "source": [
    "data = pd.read_csv('games.csv') # Загружаем исходные данные"
   ]
  },
  {
   "cell_type": "code",
   "execution_count": 4,
   "id": "3aeffff4",
   "metadata": {},
   "outputs": [
    {
     "data": {
      "text/html": [
       "<div>\n",
       "<style scoped>\n",
       "    .dataframe tbody tr th:only-of-type {\n",
       "        vertical-align: middle;\n",
       "    }\n",
       "\n",
       "    .dataframe tbody tr th {\n",
       "        vertical-align: top;\n",
       "    }\n",
       "\n",
       "    .dataframe thead th {\n",
       "        text-align: right;\n",
       "    }\n",
       "</style>\n",
       "<table border=\"1\" class=\"dataframe\">\n",
       "  <thead>\n",
       "    <tr style=\"text-align: right;\">\n",
       "      <th></th>\n",
       "      <th>Name</th>\n",
       "      <th>Platform</th>\n",
       "      <th>Year_of_Release</th>\n",
       "      <th>Genre</th>\n",
       "      <th>NA_sales</th>\n",
       "      <th>EU_sales</th>\n",
       "      <th>JP_sales</th>\n",
       "      <th>Other_sales</th>\n",
       "      <th>Critic_Score</th>\n",
       "      <th>User_Score</th>\n",
       "      <th>Rating</th>\n",
       "    </tr>\n",
       "  </thead>\n",
       "  <tbody>\n",
       "    <tr>\n",
       "      <th>0</th>\n",
       "      <td>Wii Sports</td>\n",
       "      <td>Wii</td>\n",
       "      <td>2006.0</td>\n",
       "      <td>Sports</td>\n",
       "      <td>41.36</td>\n",
       "      <td>28.96</td>\n",
       "      <td>3.77</td>\n",
       "      <td>8.45</td>\n",
       "      <td>76.0</td>\n",
       "      <td>8</td>\n",
       "      <td>E</td>\n",
       "    </tr>\n",
       "    <tr>\n",
       "      <th>1</th>\n",
       "      <td>Super Mario Bros.</td>\n",
       "      <td>NES</td>\n",
       "      <td>1985.0</td>\n",
       "      <td>Platform</td>\n",
       "      <td>29.08</td>\n",
       "      <td>3.58</td>\n",
       "      <td>6.81</td>\n",
       "      <td>0.77</td>\n",
       "      <td>NaN</td>\n",
       "      <td>NaN</td>\n",
       "      <td>NaN</td>\n",
       "    </tr>\n",
       "    <tr>\n",
       "      <th>2</th>\n",
       "      <td>Mario Kart Wii</td>\n",
       "      <td>Wii</td>\n",
       "      <td>2008.0</td>\n",
       "      <td>Racing</td>\n",
       "      <td>15.68</td>\n",
       "      <td>12.76</td>\n",
       "      <td>3.79</td>\n",
       "      <td>3.29</td>\n",
       "      <td>82.0</td>\n",
       "      <td>8.3</td>\n",
       "      <td>E</td>\n",
       "    </tr>\n",
       "    <tr>\n",
       "      <th>3</th>\n",
       "      <td>Wii Sports Resort</td>\n",
       "      <td>Wii</td>\n",
       "      <td>2009.0</td>\n",
       "      <td>Sports</td>\n",
       "      <td>15.61</td>\n",
       "      <td>10.93</td>\n",
       "      <td>3.28</td>\n",
       "      <td>2.95</td>\n",
       "      <td>80.0</td>\n",
       "      <td>8</td>\n",
       "      <td>E</td>\n",
       "    </tr>\n",
       "    <tr>\n",
       "      <th>4</th>\n",
       "      <td>Pokemon Red/Pokemon Blue</td>\n",
       "      <td>GB</td>\n",
       "      <td>1996.0</td>\n",
       "      <td>Role-Playing</td>\n",
       "      <td>11.27</td>\n",
       "      <td>8.89</td>\n",
       "      <td>10.22</td>\n",
       "      <td>1.00</td>\n",
       "      <td>NaN</td>\n",
       "      <td>NaN</td>\n",
       "      <td>NaN</td>\n",
       "    </tr>\n",
       "    <tr>\n",
       "      <th>5</th>\n",
       "      <td>Tetris</td>\n",
       "      <td>GB</td>\n",
       "      <td>1989.0</td>\n",
       "      <td>Puzzle</td>\n",
       "      <td>23.20</td>\n",
       "      <td>2.26</td>\n",
       "      <td>4.22</td>\n",
       "      <td>0.58</td>\n",
       "      <td>NaN</td>\n",
       "      <td>NaN</td>\n",
       "      <td>NaN</td>\n",
       "    </tr>\n",
       "    <tr>\n",
       "      <th>6</th>\n",
       "      <td>New Super Mario Bros.</td>\n",
       "      <td>DS</td>\n",
       "      <td>2006.0</td>\n",
       "      <td>Platform</td>\n",
       "      <td>11.28</td>\n",
       "      <td>9.14</td>\n",
       "      <td>6.50</td>\n",
       "      <td>2.88</td>\n",
       "      <td>89.0</td>\n",
       "      <td>8.5</td>\n",
       "      <td>E</td>\n",
       "    </tr>\n",
       "    <tr>\n",
       "      <th>7</th>\n",
       "      <td>Wii Play</td>\n",
       "      <td>Wii</td>\n",
       "      <td>2006.0</td>\n",
       "      <td>Misc</td>\n",
       "      <td>13.96</td>\n",
       "      <td>9.18</td>\n",
       "      <td>2.93</td>\n",
       "      <td>2.84</td>\n",
       "      <td>58.0</td>\n",
       "      <td>6.6</td>\n",
       "      <td>E</td>\n",
       "    </tr>\n",
       "    <tr>\n",
       "      <th>8</th>\n",
       "      <td>New Super Mario Bros. Wii</td>\n",
       "      <td>Wii</td>\n",
       "      <td>2009.0</td>\n",
       "      <td>Platform</td>\n",
       "      <td>14.44</td>\n",
       "      <td>6.94</td>\n",
       "      <td>4.70</td>\n",
       "      <td>2.24</td>\n",
       "      <td>87.0</td>\n",
       "      <td>8.4</td>\n",
       "      <td>E</td>\n",
       "    </tr>\n",
       "    <tr>\n",
       "      <th>9</th>\n",
       "      <td>Duck Hunt</td>\n",
       "      <td>NES</td>\n",
       "      <td>1984.0</td>\n",
       "      <td>Shooter</td>\n",
       "      <td>26.93</td>\n",
       "      <td>0.63</td>\n",
       "      <td>0.28</td>\n",
       "      <td>0.47</td>\n",
       "      <td>NaN</td>\n",
       "      <td>NaN</td>\n",
       "      <td>NaN</td>\n",
       "    </tr>\n",
       "  </tbody>\n",
       "</table>\n",
       "</div>"
      ],
      "text/plain": [
       "                        Name Platform  Year_of_Release         Genre  \\\n",
       "0                 Wii Sports      Wii           2006.0        Sports   \n",
       "1          Super Mario Bros.      NES           1985.0      Platform   \n",
       "2             Mario Kart Wii      Wii           2008.0        Racing   \n",
       "3          Wii Sports Resort      Wii           2009.0        Sports   \n",
       "4   Pokemon Red/Pokemon Blue       GB           1996.0  Role-Playing   \n",
       "5                     Tetris       GB           1989.0        Puzzle   \n",
       "6      New Super Mario Bros.       DS           2006.0      Platform   \n",
       "7                   Wii Play      Wii           2006.0          Misc   \n",
       "8  New Super Mario Bros. Wii      Wii           2009.0      Platform   \n",
       "9                  Duck Hunt      NES           1984.0       Shooter   \n",
       "\n",
       "   NA_sales  EU_sales  JP_sales  Other_sales  Critic_Score User_Score Rating  \n",
       "0     41.36     28.96      3.77         8.45          76.0          8      E  \n",
       "1     29.08      3.58      6.81         0.77           NaN        NaN    NaN  \n",
       "2     15.68     12.76      3.79         3.29          82.0        8.3      E  \n",
       "3     15.61     10.93      3.28         2.95          80.0          8      E  \n",
       "4     11.27      8.89     10.22         1.00           NaN        NaN    NaN  \n",
       "5     23.20      2.26      4.22         0.58           NaN        NaN    NaN  \n",
       "6     11.28      9.14      6.50         2.88          89.0        8.5      E  \n",
       "7     13.96      9.18      2.93         2.84          58.0        6.6      E  \n",
       "8     14.44      6.94      4.70         2.24          87.0        8.4      E  \n",
       "9     26.93      0.63      0.28         0.47           NaN        NaN    NaN  "
      ]
     },
     "execution_count": 4,
     "metadata": {},
     "output_type": "execute_result"
    }
   ],
   "source": [
    "data.head(10) # Выводим первые 10 строк ДатаФрейма"
   ]
  },
  {
   "cell_type": "markdown",
   "id": "22df747f",
   "metadata": {},
   "source": [
    "### Предобрабртка данных"
   ]
  },
  {
   "cell_type": "markdown",
   "id": "d3e623e9",
   "metadata": {},
   "source": [
    "#### **Приведем столбцы к нижнему регистру**"
   ]
  },
  {
   "cell_type": "code",
   "execution_count": 7,
   "id": "9418fbf3",
   "metadata": {},
   "outputs": [],
   "source": [
    "data.columns = data.columns.str.lower()# Переводим наименование столбцов в нижний регистр"
   ]
  },
  {
   "cell_type": "code",
   "execution_count": 8,
   "id": "121d83c7",
   "metadata": {
    "scrolled": true
   },
   "outputs": [
    {
     "data": {
      "text/html": [
       "<div>\n",
       "<style scoped>\n",
       "    .dataframe tbody tr th:only-of-type {\n",
       "        vertical-align: middle;\n",
       "    }\n",
       "\n",
       "    .dataframe tbody tr th {\n",
       "        vertical-align: top;\n",
       "    }\n",
       "\n",
       "    .dataframe thead th {\n",
       "        text-align: right;\n",
       "    }\n",
       "</style>\n",
       "<table border=\"1\" class=\"dataframe\">\n",
       "  <thead>\n",
       "    <tr style=\"text-align: right;\">\n",
       "      <th></th>\n",
       "      <th>name</th>\n",
       "      <th>platform</th>\n",
       "      <th>year_of_release</th>\n",
       "      <th>genre</th>\n",
       "      <th>na_sales</th>\n",
       "      <th>eu_sales</th>\n",
       "      <th>jp_sales</th>\n",
       "      <th>other_sales</th>\n",
       "      <th>critic_score</th>\n",
       "      <th>user_score</th>\n",
       "      <th>rating</th>\n",
       "    </tr>\n",
       "  </thead>\n",
       "  <tbody>\n",
       "    <tr>\n",
       "      <th>0</th>\n",
       "      <td>Wii Sports</td>\n",
       "      <td>Wii</td>\n",
       "      <td>2006.0</td>\n",
       "      <td>Sports</td>\n",
       "      <td>41.36</td>\n",
       "      <td>28.96</td>\n",
       "      <td>3.77</td>\n",
       "      <td>8.45</td>\n",
       "      <td>76.0</td>\n",
       "      <td>8</td>\n",
       "      <td>E</td>\n",
       "    </tr>\n",
       "    <tr>\n",
       "      <th>1</th>\n",
       "      <td>Super Mario Bros.</td>\n",
       "      <td>NES</td>\n",
       "      <td>1985.0</td>\n",
       "      <td>Platform</td>\n",
       "      <td>29.08</td>\n",
       "      <td>3.58</td>\n",
       "      <td>6.81</td>\n",
       "      <td>0.77</td>\n",
       "      <td>NaN</td>\n",
       "      <td>NaN</td>\n",
       "      <td>NaN</td>\n",
       "    </tr>\n",
       "    <tr>\n",
       "      <th>2</th>\n",
       "      <td>Mario Kart Wii</td>\n",
       "      <td>Wii</td>\n",
       "      <td>2008.0</td>\n",
       "      <td>Racing</td>\n",
       "      <td>15.68</td>\n",
       "      <td>12.76</td>\n",
       "      <td>3.79</td>\n",
       "      <td>3.29</td>\n",
       "      <td>82.0</td>\n",
       "      <td>8.3</td>\n",
       "      <td>E</td>\n",
       "    </tr>\n",
       "    <tr>\n",
       "      <th>3</th>\n",
       "      <td>Wii Sports Resort</td>\n",
       "      <td>Wii</td>\n",
       "      <td>2009.0</td>\n",
       "      <td>Sports</td>\n",
       "      <td>15.61</td>\n",
       "      <td>10.93</td>\n",
       "      <td>3.28</td>\n",
       "      <td>2.95</td>\n",
       "      <td>80.0</td>\n",
       "      <td>8</td>\n",
       "      <td>E</td>\n",
       "    </tr>\n",
       "    <tr>\n",
       "      <th>4</th>\n",
       "      <td>Pokemon Red/Pokemon Blue</td>\n",
       "      <td>GB</td>\n",
       "      <td>1996.0</td>\n",
       "      <td>Role-Playing</td>\n",
       "      <td>11.27</td>\n",
       "      <td>8.89</td>\n",
       "      <td>10.22</td>\n",
       "      <td>1.00</td>\n",
       "      <td>NaN</td>\n",
       "      <td>NaN</td>\n",
       "      <td>NaN</td>\n",
       "    </tr>\n",
       "  </tbody>\n",
       "</table>\n",
       "</div>"
      ],
      "text/plain": [
       "                       name platform  year_of_release         genre  na_sales  \\\n",
       "0                Wii Sports      Wii           2006.0        Sports     41.36   \n",
       "1         Super Mario Bros.      NES           1985.0      Platform     29.08   \n",
       "2            Mario Kart Wii      Wii           2008.0        Racing     15.68   \n",
       "3         Wii Sports Resort      Wii           2009.0        Sports     15.61   \n",
       "4  Pokemon Red/Pokemon Blue       GB           1996.0  Role-Playing     11.27   \n",
       "\n",
       "   eu_sales  jp_sales  other_sales  critic_score user_score rating  \n",
       "0     28.96      3.77         8.45          76.0          8      E  \n",
       "1      3.58      6.81         0.77           NaN        NaN    NaN  \n",
       "2     12.76      3.79         3.29          82.0        8.3      E  \n",
       "3     10.93      3.28         2.95          80.0          8      E  \n",
       "4      8.89     10.22         1.00           NaN        NaN    NaN  "
      ]
     },
     "execution_count": 8,
     "metadata": {},
     "output_type": "execute_result"
    }
   ],
   "source": [
    "data.head()#Проверяем результат"
   ]
  },
  {
   "cell_type": "markdown",
   "id": "70ea5c9a",
   "metadata": {},
   "source": [
    "#### Приводим данные к нижнему регистру"
   ]
  },
  {
   "cell_type": "code",
   "execution_count": 9,
   "id": "10119c9f",
   "metadata": {},
   "outputs": [],
   "source": [
    "name_to_change = ['name','platform','genre'] # Имена колонок, где будем менять регистр"
   ]
  },
  {
   "cell_type": "code",
   "execution_count": 10,
   "id": "dc108fc7",
   "metadata": {},
   "outputs": [],
   "source": [
    "for elem in name_to_change: #Для каждого элемента в списке\n",
    "    data[elem] = data[elem].str.lower()#Меняем регистр"
   ]
  },
  {
   "cell_type": "code",
   "execution_count": 11,
   "id": "e2abc04b",
   "metadata": {},
   "outputs": [
    {
     "data": {
      "text/html": [
       "<div>\n",
       "<style scoped>\n",
       "    .dataframe tbody tr th:only-of-type {\n",
       "        vertical-align: middle;\n",
       "    }\n",
       "\n",
       "    .dataframe tbody tr th {\n",
       "        vertical-align: top;\n",
       "    }\n",
       "\n",
       "    .dataframe thead th {\n",
       "        text-align: right;\n",
       "    }\n",
       "</style>\n",
       "<table border=\"1\" class=\"dataframe\">\n",
       "  <thead>\n",
       "    <tr style=\"text-align: right;\">\n",
       "      <th></th>\n",
       "      <th>name</th>\n",
       "      <th>platform</th>\n",
       "      <th>year_of_release</th>\n",
       "      <th>genre</th>\n",
       "      <th>na_sales</th>\n",
       "      <th>eu_sales</th>\n",
       "      <th>jp_sales</th>\n",
       "      <th>other_sales</th>\n",
       "      <th>critic_score</th>\n",
       "      <th>user_score</th>\n",
       "      <th>rating</th>\n",
       "    </tr>\n",
       "  </thead>\n",
       "  <tbody>\n",
       "    <tr>\n",
       "      <th>0</th>\n",
       "      <td>wii sports</td>\n",
       "      <td>wii</td>\n",
       "      <td>2006.0</td>\n",
       "      <td>sports</td>\n",
       "      <td>41.36</td>\n",
       "      <td>28.96</td>\n",
       "      <td>3.77</td>\n",
       "      <td>8.45</td>\n",
       "      <td>76.0</td>\n",
       "      <td>8</td>\n",
       "      <td>E</td>\n",
       "    </tr>\n",
       "    <tr>\n",
       "      <th>1</th>\n",
       "      <td>super mario bros.</td>\n",
       "      <td>nes</td>\n",
       "      <td>1985.0</td>\n",
       "      <td>platform</td>\n",
       "      <td>29.08</td>\n",
       "      <td>3.58</td>\n",
       "      <td>6.81</td>\n",
       "      <td>0.77</td>\n",
       "      <td>NaN</td>\n",
       "      <td>NaN</td>\n",
       "      <td>NaN</td>\n",
       "    </tr>\n",
       "    <tr>\n",
       "      <th>2</th>\n",
       "      <td>mario kart wii</td>\n",
       "      <td>wii</td>\n",
       "      <td>2008.0</td>\n",
       "      <td>racing</td>\n",
       "      <td>15.68</td>\n",
       "      <td>12.76</td>\n",
       "      <td>3.79</td>\n",
       "      <td>3.29</td>\n",
       "      <td>82.0</td>\n",
       "      <td>8.3</td>\n",
       "      <td>E</td>\n",
       "    </tr>\n",
       "    <tr>\n",
       "      <th>3</th>\n",
       "      <td>wii sports resort</td>\n",
       "      <td>wii</td>\n",
       "      <td>2009.0</td>\n",
       "      <td>sports</td>\n",
       "      <td>15.61</td>\n",
       "      <td>10.93</td>\n",
       "      <td>3.28</td>\n",
       "      <td>2.95</td>\n",
       "      <td>80.0</td>\n",
       "      <td>8</td>\n",
       "      <td>E</td>\n",
       "    </tr>\n",
       "    <tr>\n",
       "      <th>4</th>\n",
       "      <td>pokemon red/pokemon blue</td>\n",
       "      <td>gb</td>\n",
       "      <td>1996.0</td>\n",
       "      <td>role-playing</td>\n",
       "      <td>11.27</td>\n",
       "      <td>8.89</td>\n",
       "      <td>10.22</td>\n",
       "      <td>1.00</td>\n",
       "      <td>NaN</td>\n",
       "      <td>NaN</td>\n",
       "      <td>NaN</td>\n",
       "    </tr>\n",
       "  </tbody>\n",
       "</table>\n",
       "</div>"
      ],
      "text/plain": [
       "                       name platform  year_of_release         genre  na_sales  \\\n",
       "0                wii sports      wii           2006.0        sports     41.36   \n",
       "1         super mario bros.      nes           1985.0      platform     29.08   \n",
       "2            mario kart wii      wii           2008.0        racing     15.68   \n",
       "3         wii sports resort      wii           2009.0        sports     15.61   \n",
       "4  pokemon red/pokemon blue       gb           1996.0  role-playing     11.27   \n",
       "\n",
       "   eu_sales  jp_sales  other_sales  critic_score user_score rating  \n",
       "0     28.96      3.77         8.45          76.0          8      E  \n",
       "1      3.58      6.81         0.77           NaN        NaN    NaN  \n",
       "2     12.76      3.79         3.29          82.0        8.3      E  \n",
       "3     10.93      3.28         2.95          80.0          8      E  \n",
       "4      8.89     10.22         1.00           NaN        NaN    NaN  "
      ]
     },
     "execution_count": 11,
     "metadata": {},
     "output_type": "execute_result"
    }
   ],
   "source": [
    "data.head()#Проверка данных"
   ]
  },
  {
   "cell_type": "markdown",
   "id": "98bce19a",
   "metadata": {},
   "source": [
    "#### **Изучим информацию о датафрейме `data`**"
   ]
  },
  {
   "cell_type": "code",
   "execution_count": 12,
   "id": "d3ea7516",
   "metadata": {},
   "outputs": [
    {
     "name": "stdout",
     "output_type": "stream",
     "text": [
      "<class 'pandas.core.frame.DataFrame'>\n",
      "RangeIndex: 16715 entries, 0 to 16714\n",
      "Data columns (total 11 columns):\n",
      " #   Column           Non-Null Count  Dtype  \n",
      "---  ------           --------------  -----  \n",
      " 0   name             16713 non-null  object \n",
      " 1   platform         16715 non-null  object \n",
      " 2   year_of_release  16446 non-null  float64\n",
      " 3   genre            16713 non-null  object \n",
      " 4   na_sales         16715 non-null  float64\n",
      " 5   eu_sales         16715 non-null  float64\n",
      " 6   jp_sales         16715 non-null  float64\n",
      " 7   other_sales      16715 non-null  float64\n",
      " 8   critic_score     8137 non-null   float64\n",
      " 9   user_score       10014 non-null  object \n",
      " 10  rating           9949 non-null   object \n",
      "dtypes: float64(6), object(5)\n",
      "memory usage: 1.4+ MB\n"
     ]
    }
   ],
   "source": [
    "data.info()"
   ]
  },
  {
   "cell_type": "markdown",
   "id": "e140a0ea",
   "metadata": {},
   "source": [
    "**Результат**\n",
    "* `year_of_release ` - имеет тип данных float64. Его надо преобразовать в int\n",
    "* `user_score`- имеет тип данных object.\n",
    "* Количество строк `16715`\n",
    "* Количсевто колонок `11`\n",
    "* Судя по количству заполненых данных в каждом столбце, есть пропуски в значениях"
   ]
  },
  {
   "cell_type": "code",
   "execution_count": 13,
   "id": "b9e4c991",
   "metadata": {},
   "outputs": [],
   "source": [
    "data['year_of_release'] = data['year_of_release'].fillna(-1)# Заменяем пропуски в годах на -1, тобы не портить значения данных"
   ]
  },
  {
   "cell_type": "code",
   "execution_count": 14,
   "id": "0ea5873e",
   "metadata": {},
   "outputs": [],
   "source": [
    "data['year_of_release'] = data['year_of_release'].astype('int64')# Преобразуем из float в int"
   ]
  },
  {
   "cell_type": "markdown",
   "id": "d1317fdc",
   "metadata": {},
   "source": [
    "#### Обработка пропусков"
   ]
  },
  {
   "cell_type": "code",
   "execution_count": 15,
   "id": "2dce3d22",
   "metadata": {
    "scrolled": true
   },
   "outputs": [
    {
     "data": {
      "text/plain": [
       "name                  2\n",
       "platform              0\n",
       "year_of_release       0\n",
       "genre                 2\n",
       "na_sales              0\n",
       "eu_sales              0\n",
       "jp_sales              0\n",
       "other_sales           0\n",
       "critic_score       8578\n",
       "user_score         6701\n",
       "rating             6766\n",
       "dtype: int64"
      ]
     },
     "execution_count": 15,
     "metadata": {},
     "output_type": "execute_result"
    }
   ],
   "source": [
    "data.isna().sum() #Считаем количсевто пропусков в ДатаФрейме"
   ]
  },
  {
   "cell_type": "markdown",
   "id": "ef87635c",
   "metadata": {},
   "source": [
    "**Результат**\n",
    "* Пропуски в столбце `name`. Так как всего 2 пропуска, стоит удалить из данных\n",
    "* Пропуски в столбце `year_of_release`. Возможно стоит оставить данные с пропусками\n",
    "* Пропуски в столбце `critic_score`. Так оценка субъективно заменять пропуски нецелесообразно\n",
    "* Пропуски в столбце `user_score`. Так оценка субъективно заменять пропуски нецелесообразно\n",
    "* Пропуски в столбце `rating`.Так оценка субъективно заменять пропуски нецелесообразно"
   ]
  },
  {
   "cell_type": "markdown",
   "id": "5a8e0622",
   "metadata": {},
   "source": [
    "**Удаление пропусков в `name`**"
   ]
  },
  {
   "cell_type": "code",
   "execution_count": 16,
   "id": "f50aa2ce",
   "metadata": {},
   "outputs": [
    {
     "data": {
      "text/plain": [
       "name                  0\n",
       "platform              0\n",
       "year_of_release       0\n",
       "genre                 0\n",
       "na_sales              0\n",
       "eu_sales              0\n",
       "jp_sales              0\n",
       "other_sales           0\n",
       "critic_score       8576\n",
       "user_score         6699\n",
       "rating             6764\n",
       "dtype: int64"
      ]
     },
     "execution_count": 16,
     "metadata": {},
     "output_type": "execute_result"
    }
   ],
   "source": [
    "data = data.dropna(subset = ['name'])# Удаляем строки с пропуском в name\n",
    "data.isna().sum()# Проверяем оставшиеся пропуски"
   ]
  },
  {
   "cell_type": "markdown",
   "id": "b9c73741",
   "metadata": {},
   "source": [
    "Вместе с пропусками в `name` не соталось пропусков в `genre`"
   ]
  },
  {
   "cell_type": "markdown",
   "id": "0465732f",
   "metadata": {},
   "source": [
    "**Обратим внимание на данные о пользовательской оценке**"
   ]
  },
  {
   "cell_type": "code",
   "execution_count": 17,
   "id": "4be1258a",
   "metadata": {},
   "outputs": [
    {
     "data": {
      "text/plain": [
       "array(['8', nan, '8.3', '8.5', '6.6', '8.4', '8.6', '7.7', '6.3', '7.4',\n",
       "       '8.2', '9', '7.9', '8.1', '8.7', '7.1', '3.4', '5.3', '4.8', '3.2',\n",
       "       '8.9', '6.4', '7.8', '7.5', '2.6', '7.2', '9.2', '7', '7.3', '4.3',\n",
       "       '7.6', '5.7', '5', '9.1', '6.5', 'tbd', '8.8', '6.9', '9.4', '6.8',\n",
       "       '6.1', '6.7', '5.4', '4', '4.9', '4.5', '9.3', '6.2', '4.2', '6',\n",
       "       '3.7', '4.1', '5.8', '5.6', '5.5', '4.4', '4.6', '5.9', '3.9',\n",
       "       '3.1', '2.9', '5.2', '3.3', '4.7', '5.1', '3.5', '2.5', '1.9', '3',\n",
       "       '2.7', '2.2', '2', '9.5', '2.1', '3.6', '2.8', '1.8', '3.8', '0',\n",
       "       '1.6', '9.6', '2.4', '1.7', '1.1', '0.3', '1.5', '0.7', '1.2',\n",
       "       '2.3', '0.5', '1.3', '0.2', '0.6', '1.4', '0.9', '1', '9.7'],\n",
       "      dtype=object)"
      ]
     },
     "execution_count": 17,
     "metadata": {},
     "output_type": "execute_result"
    }
   ],
   "source": [
    "data['user_score'].unique() #посмотрим уникальные значения "
   ]
  },
  {
   "cell_type": "markdown",
   "id": "31822a6c",
   "metadata": {},
   "source": [
    "Согласно результатам, в данных етсь значение `tbd`. Оно означает `to be determined` - то есть **Рейтинг не определен**"
   ]
  },
  {
   "cell_type": "markdown",
   "id": "016fff3a",
   "metadata": {},
   "source": [
    "Так как Оценка пользователей подразумевает некое число, переведем тип данных из `object` в `float`"
   ]
  },
  {
   "cell_type": "code",
   "execution_count": 18,
   "id": "c1ac571e",
   "metadata": {},
   "outputs": [],
   "source": [
    "data['user_score'] = data['user_score'].apply(pd.to_numeric, errors='coerce')# Меняем тип данных на float"
   ]
  },
  {
   "cell_type": "code",
   "execution_count": 19,
   "id": "e8a26a9e",
   "metadata": {},
   "outputs": [
    {
     "name": "stdout",
     "output_type": "stream",
     "text": [
      "<class 'pandas.core.frame.DataFrame'>\n",
      "Int64Index: 16713 entries, 0 to 16714\n",
      "Data columns (total 11 columns):\n",
      " #   Column           Non-Null Count  Dtype  \n",
      "---  ------           --------------  -----  \n",
      " 0   name             16713 non-null  object \n",
      " 1   platform         16713 non-null  object \n",
      " 2   year_of_release  16713 non-null  int64  \n",
      " 3   genre            16713 non-null  object \n",
      " 4   na_sales         16713 non-null  float64\n",
      " 5   eu_sales         16713 non-null  float64\n",
      " 6   jp_sales         16713 non-null  float64\n",
      " 7   other_sales      16713 non-null  float64\n",
      " 8   critic_score     8137 non-null   float64\n",
      " 9   user_score       7590 non-null   float64\n",
      " 10  rating           9949 non-null   object \n",
      "dtypes: float64(6), int64(1), object(4)\n",
      "memory usage: 1.5+ MB\n"
     ]
    }
   ],
   "source": [
    "data.info()# Проверка изменений"
   ]
  },
  {
   "cell_type": "markdown",
   "id": "70c9a24a",
   "metadata": {},
   "source": [
    "**Данные рейтинга**"
   ]
  },
  {
   "cell_type": "markdown",
   "id": "a10d0694",
   "metadata": {},
   "source": [
    "Пропуски в столбце `rating` могут оказать влияние на дальнейшее исследование. Заменим пропсуки в этом столце на значение `with_out_rating`"
   ]
  },
  {
   "cell_type": "code",
   "execution_count": 20,
   "id": "b449723d",
   "metadata": {},
   "outputs": [],
   "source": [
    "data['rating'] = data['rating'].fillna('with_out_rating')"
   ]
  },
  {
   "cell_type": "markdown",
   "id": "d5b148cb",
   "metadata": {},
   "source": [
    "### Результат"
   ]
  },
  {
   "cell_type": "markdown",
   "id": "a9050aaa",
   "metadata": {},
   "source": [
    "* Лишние значение удалены\n",
    "* Типы данных в нужных ячейках изменены\n",
    "* Пропуски оставлены нетронутыми. В последующем, при анализе, будем отфильтровывать значения."
   ]
  },
  {
   "cell_type": "markdown",
   "id": "d309ab48",
   "metadata": {},
   "source": [
    "### Первичный подсчет данных"
   ]
  },
  {
   "cell_type": "markdown",
   "id": "87ede08e",
   "metadata": {},
   "source": [
    "Найдем суммарные продажи по всем регионам"
   ]
  },
  {
   "cell_type": "code",
   "execution_count": 21,
   "id": "6af0c97e",
   "metadata": {
    "scrolled": true
   },
   "outputs": [
    {
     "data": {
      "text/html": [
       "<div>\n",
       "<style scoped>\n",
       "    .dataframe tbody tr th:only-of-type {\n",
       "        vertical-align: middle;\n",
       "    }\n",
       "\n",
       "    .dataframe tbody tr th {\n",
       "        vertical-align: top;\n",
       "    }\n",
       "\n",
       "    .dataframe thead th {\n",
       "        text-align: right;\n",
       "    }\n",
       "</style>\n",
       "<table border=\"1\" class=\"dataframe\">\n",
       "  <thead>\n",
       "    <tr style=\"text-align: right;\">\n",
       "      <th></th>\n",
       "      <th>name</th>\n",
       "      <th>platform</th>\n",
       "      <th>year_of_release</th>\n",
       "      <th>genre</th>\n",
       "      <th>na_sales</th>\n",
       "      <th>eu_sales</th>\n",
       "      <th>jp_sales</th>\n",
       "      <th>other_sales</th>\n",
       "      <th>critic_score</th>\n",
       "      <th>user_score</th>\n",
       "      <th>rating</th>\n",
       "      <th>sum_sale</th>\n",
       "    </tr>\n",
       "  </thead>\n",
       "  <tbody>\n",
       "    <tr>\n",
       "      <th>0</th>\n",
       "      <td>wii sports</td>\n",
       "      <td>wii</td>\n",
       "      <td>2006</td>\n",
       "      <td>sports</td>\n",
       "      <td>41.36</td>\n",
       "      <td>28.96</td>\n",
       "      <td>3.77</td>\n",
       "      <td>8.45</td>\n",
       "      <td>76.0</td>\n",
       "      <td>8.0</td>\n",
       "      <td>E</td>\n",
       "      <td>82.54</td>\n",
       "    </tr>\n",
       "    <tr>\n",
       "      <th>1</th>\n",
       "      <td>super mario bros.</td>\n",
       "      <td>nes</td>\n",
       "      <td>1985</td>\n",
       "      <td>platform</td>\n",
       "      <td>29.08</td>\n",
       "      <td>3.58</td>\n",
       "      <td>6.81</td>\n",
       "      <td>0.77</td>\n",
       "      <td>NaN</td>\n",
       "      <td>NaN</td>\n",
       "      <td>with_out_rating</td>\n",
       "      <td>40.24</td>\n",
       "    </tr>\n",
       "    <tr>\n",
       "      <th>2</th>\n",
       "      <td>mario kart wii</td>\n",
       "      <td>wii</td>\n",
       "      <td>2008</td>\n",
       "      <td>racing</td>\n",
       "      <td>15.68</td>\n",
       "      <td>12.76</td>\n",
       "      <td>3.79</td>\n",
       "      <td>3.29</td>\n",
       "      <td>82.0</td>\n",
       "      <td>8.3</td>\n",
       "      <td>E</td>\n",
       "      <td>35.52</td>\n",
       "    </tr>\n",
       "    <tr>\n",
       "      <th>3</th>\n",
       "      <td>wii sports resort</td>\n",
       "      <td>wii</td>\n",
       "      <td>2009</td>\n",
       "      <td>sports</td>\n",
       "      <td>15.61</td>\n",
       "      <td>10.93</td>\n",
       "      <td>3.28</td>\n",
       "      <td>2.95</td>\n",
       "      <td>80.0</td>\n",
       "      <td>8.0</td>\n",
       "      <td>E</td>\n",
       "      <td>32.77</td>\n",
       "    </tr>\n",
       "    <tr>\n",
       "      <th>4</th>\n",
       "      <td>pokemon red/pokemon blue</td>\n",
       "      <td>gb</td>\n",
       "      <td>1996</td>\n",
       "      <td>role-playing</td>\n",
       "      <td>11.27</td>\n",
       "      <td>8.89</td>\n",
       "      <td>10.22</td>\n",
       "      <td>1.00</td>\n",
       "      <td>NaN</td>\n",
       "      <td>NaN</td>\n",
       "      <td>with_out_rating</td>\n",
       "      <td>31.38</td>\n",
       "    </tr>\n",
       "  </tbody>\n",
       "</table>\n",
       "</div>"
      ],
      "text/plain": [
       "                       name platform  year_of_release         genre  na_sales  \\\n",
       "0                wii sports      wii             2006        sports     41.36   \n",
       "1         super mario bros.      nes             1985      platform     29.08   \n",
       "2            mario kart wii      wii             2008        racing     15.68   \n",
       "3         wii sports resort      wii             2009        sports     15.61   \n",
       "4  pokemon red/pokemon blue       gb             1996  role-playing     11.27   \n",
       "\n",
       "   eu_sales  jp_sales  other_sales  critic_score  user_score           rating  \\\n",
       "0     28.96      3.77         8.45          76.0         8.0                E   \n",
       "1      3.58      6.81         0.77           NaN         NaN  with_out_rating   \n",
       "2     12.76      3.79         3.29          82.0         8.3                E   \n",
       "3     10.93      3.28         2.95          80.0         8.0                E   \n",
       "4      8.89     10.22         1.00           NaN         NaN  with_out_rating   \n",
       "\n",
       "   sum_sale  \n",
       "0     82.54  \n",
       "1     40.24  \n",
       "2     35.52  \n",
       "3     32.77  \n",
       "4     31.38  "
      ]
     },
     "execution_count": 21,
     "metadata": {},
     "output_type": "execute_result"
    }
   ],
   "source": [
    "data['sum_sale'] = data['na_sales'] + data['eu_sales'] + data['jp_sales'] + data['other_sales'] #Проволим суммирование\n",
    "data.head() #Проверяем результат"
   ]
  },
  {
   "cell_type": "markdown",
   "id": "971afbc3",
   "metadata": {},
   "source": [
    "### Исследовательская часть анализа"
   ]
  },
  {
   "cell_type": "markdown",
   "id": "04187917",
   "metadata": {},
   "source": [
    "#### Cколько игр выпускалось в разные годы. Важны ли данные за все периоды?"
   ]
  },
  {
   "cell_type": "code",
   "execution_count": 22,
   "id": "842d2347",
   "metadata": {},
   "outputs": [],
   "source": [
    "data_for_years = data.pivot_table(index='year_of_release',values='name', aggfunc='count')"
   ]
  },
  {
   "cell_type": "code",
   "execution_count": 23,
   "id": "2fa89cf1",
   "metadata": {},
   "outputs": [
    {
     "data": {
      "text/plain": [
       "<AxesSubplot:title={'center':'Количество игр в год'}, xlabel='Год', ylabel='Количесвто'>"
      ]
     },
     "execution_count": 23,
     "metadata": {},
     "output_type": "execute_result"
    },
    {
     "data": {
      "image/png": "[encoded data removed]",
      "text/plain": [
       "<Figure size 1080x216 with 1 Axes>"
      ]
     },
     "metadata": {
      "needs_background": "light"
     },
     "output_type": "display_data"
    }
   ],
   "source": [
    "data_for_years.plot(title='Количество игр в год',grid=True, kind='bar',xlabel='Год', ylabel='Количесвто',figsize=(15,3),rot=45)"
   ]
  },
  {
   "cell_type": "markdown",
   "id": "c90d6850",
   "metadata": {},
   "source": [
    "**Результат**\n",
    "* Согласно данным графика наибольшее количесвто игр выпускалось в период с 2002 по 2012 годы\n",
    "* Стоит в последующем анализе рассматривать срез по дате игры от 2002 года до текущего, так какв этот период выросло количесвто выпущенных игр"
   ]
  },
  {
   "cell_type": "markdown",
   "id": "b2f70868",
   "metadata": {},
   "source": [
    "**Как менялись продажи по платформам. Выберите платформы с наибольшими суммарными продажами и постройте распределение по годам. За какой характерный срок появляются новые и исчезают старые платформы?**"
   ]
  },
  {
   "cell_type": "code",
   "execution_count": 24,
   "id": "e93f234f",
   "metadata": {},
   "outputs": [],
   "source": [
    "data_top_five = (\n",
    "    data.pivot_table(index=['platform'], values='sum_sale',aggfunc='sum')\n",
    "        .sort_values(by='sum_sale',ascending=False)\n",
    "        .reset_index()\n",
    "        .head(5)\n",
    ") #Создаем Сводную таблицу по платформам и считаем сумму продаж. Затем выводим верхние 5 значений"
   ]
  },
  {
   "cell_type": "code",
   "execution_count": 25,
   "id": "978e6524",
   "metadata": {},
   "outputs": [],
   "source": [
    "top_five_platform = data_top_five['platform'] # Создаем список из топ 5 платформ"
   ]
  },
  {
   "cell_type": "code",
   "execution_count": 26,
   "id": "711355d5",
   "metadata": {},
   "outputs": [
    {
     "data": {
      "image/png": "[encoded data removed]",
      "text/plain": [
       "<Figure size 864x216 with 1 Axes>"
      ]
     },
     "metadata": {
      "needs_background": "light"
     },
     "output_type": "display_data"
    },
    {
     "data": {
      "image/png": "[encoded data removed]",
      "text/plain": [
       "<Figure size 864x216 with 1 Axes>"
      ]
     },
     "metadata": {
      "needs_background": "light"
     },
     "output_type": "display_data"
    },
    {
     "data": {
      "image/png": "[encoded data removed]",
      "text/plain": [
       "<Figure size 864x216 with 1 Axes>"
      ]
     },
     "metadata": {
      "needs_background": "light"
     },
     "output_type": "display_data"
    },
    {
     "data": {
      "image/png": "[encoded data removed]",
      "text/plain": [
       "<Figure size 864x216 with 1 Axes>"
      ]
     },
     "metadata": {
      "needs_background": "light"
     },
     "output_type": "display_data"
    },
    {
     "data": {
      "image/png": "[encoded data removed]",
      "text/plain": [
       "<Figure size 864x216 with 1 Axes>"
      ]
     },
     "metadata": {
      "needs_background": "light"
     },
     "output_type": "display_data"
    }
   ],
   "source": [
    "for elem in top_five_platform:\n",
    "    data.query('platform == @elem').groupby(by='year_of_release')['sum_sale'].sum().plot(title=f'Продажи на платформe {elem}',grid=True, kind='bar',xlabel='Год', ylabel='Сумма',figsize=(12,3),rot=45)\n",
    "    plt.show()"
   ]
  },
  {
   "cell_type": "markdown",
   "id": "9d8ba8f9",
   "metadata": {},
   "source": [
    "**Результат:**"
   ]
  },
  {
   "cell_type": "markdown",
   "id": "5f6d5b7a",
   "metadata": {},
   "source": [
    "* **Платформа ps2** - Резкий скачок продаж в 2001. После 2005 года начался спад по проажам на платформе\n",
    "* **Платформа x369** - Активные продажи в период с 2007 по 2013\n",
    "* **Платформа wii** - В 2006 резкий старт продаж. Так продолжилось до 2010 года\n",
    "* **Платформа ps3** - Активные продажи с 2007 по 2014 год\n",
    "* **Платформа ds** - Резкий скачок продаж в 2005. Продлилось это до 2010 года"
   ]
  },
  {
   "cell_type": "markdown",
   "id": "7d8aba7e",
   "metadata": {},
   "source": [
    "**Средний срок максимальной прибыли в топ 5 платформ составляет 5 лет.**"
   ]
  },
  {
   "cell_type": "markdown",
   "id": "06ec2461",
   "metadata": {},
   "source": [
    "#### Выбор актульной даты для последубщего анализа"
   ]
  },
  {
   "cell_type": "markdown",
   "id": "cc0c906b",
   "metadata": {},
   "source": [
    "Согласно предыдущему пункту - срок максмиальных продаж составляет 5 лет. Так как стоит задача сделать предположение на 2017 год, данные для анализа должны включать, как минимум, 2016 год. Также, согласно результат предыдущего пункта - пиковые занчения в основном приходятся на 3-4 года. Соответственно возьмем для последующего анализа результаты за период 2014 - 2016"
   ]
  },
  {
   "cell_type": "code",
   "execution_count": 27,
   "id": "825984b7",
   "metadata": {},
   "outputs": [],
   "source": [
    "data_date = data.query('year_of_release >= 2014 and year_of_release <=2016').reset_index(drop=True) #Создаем новый Датафрейм для последующего анализа"
   ]
  },
  {
   "cell_type": "code",
   "execution_count": 28,
   "id": "d1d139b8",
   "metadata": {
    "scrolled": true
   },
   "outputs": [
    {
     "data": {
      "text/html": [
       "<div>\n",
       "<style scoped>\n",
       "    .dataframe tbody tr th:only-of-type {\n",
       "        vertical-align: middle;\n",
       "    }\n",
       "\n",
       "    .dataframe tbody tr th {\n",
       "        vertical-align: top;\n",
       "    }\n",
       "\n",
       "    .dataframe thead th {\n",
       "        text-align: right;\n",
       "    }\n",
       "</style>\n",
       "<table border=\"1\" class=\"dataframe\">\n",
       "  <thead>\n",
       "    <tr style=\"text-align: right;\">\n",
       "      <th></th>\n",
       "      <th>name</th>\n",
       "      <th>platform</th>\n",
       "      <th>year_of_release</th>\n",
       "      <th>genre</th>\n",
       "      <th>na_sales</th>\n",
       "      <th>eu_sales</th>\n",
       "      <th>jp_sales</th>\n",
       "      <th>other_sales</th>\n",
       "      <th>critic_score</th>\n",
       "      <th>user_score</th>\n",
       "      <th>rating</th>\n",
       "      <th>sum_sale</th>\n",
       "    </tr>\n",
       "  </thead>\n",
       "  <tbody>\n",
       "    <tr>\n",
       "      <th>0</th>\n",
       "      <td>call of duty: black ops 3</td>\n",
       "      <td>ps4</td>\n",
       "      <td>2015</td>\n",
       "      <td>shooter</td>\n",
       "      <td>6.03</td>\n",
       "      <td>5.86</td>\n",
       "      <td>0.36</td>\n",
       "      <td>2.38</td>\n",
       "      <td>NaN</td>\n",
       "      <td>NaN</td>\n",
       "      <td>with_out_rating</td>\n",
       "      <td>14.63</td>\n",
       "    </tr>\n",
       "    <tr>\n",
       "      <th>1</th>\n",
       "      <td>grand theft auto v</td>\n",
       "      <td>ps4</td>\n",
       "      <td>2014</td>\n",
       "      <td>action</td>\n",
       "      <td>3.96</td>\n",
       "      <td>6.31</td>\n",
       "      <td>0.38</td>\n",
       "      <td>1.97</td>\n",
       "      <td>97.0</td>\n",
       "      <td>8.3</td>\n",
       "      <td>M</td>\n",
       "      <td>12.62</td>\n",
       "    </tr>\n",
       "    <tr>\n",
       "      <th>2</th>\n",
       "      <td>pokemon omega ruby/pokemon alpha sapphire</td>\n",
       "      <td>3ds</td>\n",
       "      <td>2014</td>\n",
       "      <td>role-playing</td>\n",
       "      <td>4.35</td>\n",
       "      <td>3.49</td>\n",
       "      <td>3.10</td>\n",
       "      <td>0.74</td>\n",
       "      <td>NaN</td>\n",
       "      <td>NaN</td>\n",
       "      <td>with_out_rating</td>\n",
       "      <td>11.68</td>\n",
       "    </tr>\n",
       "    <tr>\n",
       "      <th>3</th>\n",
       "      <td>fifa 16</td>\n",
       "      <td>ps4</td>\n",
       "      <td>2015</td>\n",
       "      <td>sports</td>\n",
       "      <td>1.12</td>\n",
       "      <td>6.12</td>\n",
       "      <td>0.06</td>\n",
       "      <td>1.28</td>\n",
       "      <td>82.0</td>\n",
       "      <td>4.3</td>\n",
       "      <td>E</td>\n",
       "      <td>8.58</td>\n",
       "    </tr>\n",
       "    <tr>\n",
       "      <th>4</th>\n",
       "      <td>star wars battlefront (2015)</td>\n",
       "      <td>ps4</td>\n",
       "      <td>2015</td>\n",
       "      <td>shooter</td>\n",
       "      <td>2.99</td>\n",
       "      <td>3.49</td>\n",
       "      <td>0.22</td>\n",
       "      <td>1.28</td>\n",
       "      <td>NaN</td>\n",
       "      <td>NaN</td>\n",
       "      <td>with_out_rating</td>\n",
       "      <td>7.98</td>\n",
       "    </tr>\n",
       "  </tbody>\n",
       "</table>\n",
       "</div>"
      ],
      "text/plain": [
       "                                        name platform  year_of_release  \\\n",
       "0                  call of duty: black ops 3      ps4             2015   \n",
       "1                         grand theft auto v      ps4             2014   \n",
       "2  pokemon omega ruby/pokemon alpha sapphire      3ds             2014   \n",
       "3                                    fifa 16      ps4             2015   \n",
       "4               star wars battlefront (2015)      ps4             2015   \n",
       "\n",
       "          genre  na_sales  eu_sales  jp_sales  other_sales  critic_score  \\\n",
       "0       shooter      6.03      5.86      0.36         2.38           NaN   \n",
       "1        action      3.96      6.31      0.38         1.97          97.0   \n",
       "2  role-playing      4.35      3.49      3.10         0.74           NaN   \n",
       "3        sports      1.12      6.12      0.06         1.28          82.0   \n",
       "4       shooter      2.99      3.49      0.22         1.28           NaN   \n",
       "\n",
       "   user_score           rating  sum_sale  \n",
       "0         NaN  with_out_rating     14.63  \n",
       "1         8.3                M     12.62  \n",
       "2         NaN  with_out_rating     11.68  \n",
       "3         4.3                E      8.58  \n",
       "4         NaN  with_out_rating      7.98  "
      ]
     },
     "execution_count": 28,
     "metadata": {},
     "output_type": "execute_result"
    }
   ],
   "source": [
    "data_date.head() # Проверим что у нас получилось"
   ]
  },
  {
   "cell_type": "markdown",
   "id": "9fa07601",
   "metadata": {},
   "source": [
    "**Какие платформы лидируют по продажам, растут или падают? Выберите несколько потенциально прибыльных платформ.**"
   ]
  },
  {
   "cell_type": "code",
   "execution_count": 29,
   "id": "30b2e8e8",
   "metadata": {},
   "outputs": [],
   "source": [
    "data_top_five_new = (\n",
    "    data_date.pivot_table(index=['platform'], values='sum_sale',aggfunc='sum')\n",
    "        .sort_values(by='sum_sale',ascending=False)\n",
    "        .reset_index()\n",
    "        .head(5)\n",
    ") #Создаем Сводную таблицу по платформам и считаем сумму продаж. Затем выводим верхние 5 значений"
   ]
  },
  {
   "cell_type": "code",
   "execution_count": 30,
   "id": "39010f77",
   "metadata": {},
   "outputs": [],
   "source": [
    "top_five_platform_new = data_top_five_new['platform'] # Создаем список из топ 5 платформ"
   ]
  },
  {
   "cell_type": "code",
   "execution_count": 31,
   "id": "681974d0",
   "metadata": {},
   "outputs": [
    {
     "data": {
      "image/png": "[encoded data removed]",
      "text/plain": [
       "<Figure size 360x216 with 1 Axes>"
      ]
     },
     "metadata": {
      "needs_background": "light"
     },
     "output_type": "display_data"
    },
    {
     "data": {
      "image/png": "[encoded data removed]",
      "text/plain": [
       "<Figure size 360x216 with 1 Axes>"
      ]
     },
     "metadata": {
      "needs_background": "light"
     },
     "output_type": "display_data"
    },
    {
     "data": {
      "image/png": "[encoded data removed]",
      "text/plain": [
       "<Figure size 360x216 with 1 Axes>"
      ]
     },
     "metadata": {
      "needs_background": "light"
     },
     "output_type": "display_data"
    },
    {
     "data": {
      "image/png": "[encoded data removed]",
      "text/plain": [
       "<Figure size 360x216 with 1 Axes>"
      ]
     },
     "metadata": {
      "needs_background": "light"
     },
     "output_type": "display_data"
    },
    {
     "data": {
      "image/png": "[encoded data removed]",
      "text/plain": [
       "<Figure size 360x216 with 1 Axes>"
      ]
     },
     "metadata": {
      "needs_background": "light"
     },
     "output_type": "display_data"
    }
   ],
   "source": [
    "for elem in top_five_platform_new:\n",
    "    data_date.query('platform == @elem').groupby(by='year_of_release')['sum_sale'].sum().plot(title=f'Продажи на платформe {elem}',grid=True, kind='bar',xlabel='Год', ylabel='Сумма',figsize=(5,3),rot=45)\n",
    "    plt.show()"
   ]
  },
  {
   "cell_type": "code",
   "execution_count": 32,
   "id": "dd934a52",
   "metadata": {
    "scrolled": true
   },
   "outputs": [
    {
     "data": {
      "text/plain": [
       "0     ps4\n",
       "1    xone\n",
       "2     3ds\n",
       "3     ps3\n",
       "4    x360\n",
       "Name: platform, dtype: object"
      ]
     },
     "execution_count": 32,
     "metadata": {},
     "output_type": "execute_result"
    }
   ],
   "source": [
    "top_five_platform_new"
   ]
  },
  {
   "cell_type": "markdown",
   "id": "18937989",
   "metadata": {},
   "source": [
    "**Результат:**\n",
    "* Топ 5 по проадаж за исследуемый период - *`ps4`*,*`xone`*,*`3ds`*,*`ps3`*,*`x360`*\n",
    "* Согласно результатам на графиках - последние три платформы имеют явную тенденцию к снижению прибыли. Скорее всего, первые 2 платформы скорее всего будут иметь потенциал к росту в 2017 году"
   ]
  },
  {
   "cell_type": "markdown",
   "id": "18845387",
   "metadata": {},
   "source": [
    "**Постройте график «ящик с усами» по глобальным продажам игр в разбивке по платформам. Опишите результат**"
   ]
  },
  {
   "cell_type": "code",
   "execution_count": 33,
   "id": "58a924cf",
   "metadata": {},
   "outputs": [
    {
     "data": {
      "text/plain": [
       "Text(0.5, 1.0, 'Распределение суммарных продаж по топ 5 платформ')"
      ]
     },
     "execution_count": 33,
     "metadata": {},
     "output_type": "execute_result"
    },
    {
     "data": {
      "image/png": "[encoded data removed]",
      "text/plain": [
       "<Figure size 1080x576 with 1 Axes>"
      ]
     },
     "metadata": {
      "needs_background": "light"
     },
     "output_type": "display_data"
    }
   ],
   "source": [
    "data_date.query('platform in [\"ps4\", \"xone\", \"3ds\", \"ps3\",\"x360\"]').boxplot('sum_sale', by = 'platform', figsize = (15,8))\n",
    "plt.ylim(0, 1.5)\n",
    "plt.title('Распределение суммарных продаж по топ 5 платформ')"
   ]
  },
  {
   "cell_type": "markdown",
   "id": "771c4c00",
   "metadata": {},
   "source": [
    "**Результат**"
   ]
  },
  {
   "cell_type": "markdown",
   "id": "8bc3a7ab",
   "metadata": {},
   "source": [
    "* Максимальное медианное значение суммарных продаж у платформы **xone**\n",
    "* У платформ **ps4**, **x360**, **xone** максимальный разброс значений"
   ]
  },
  {
   "cell_type": "markdown",
   "id": "24ef19b1",
   "metadata": {},
   "source": [
    "**Посмотрите, как влияют на продажи внутри одной популярной платформы отзывы пользователей и критиков. Постройте диаграмму рассеяния и посчитайте корреляцию между отзывами и продажами. Сформулируйте выводы.**"
   ]
  },
  {
   "cell_type": "markdown",
   "id": "a7a0856b",
   "metadata": {},
   "source": [
    "Будем рассматривать платформу **xone**"
   ]
  },
  {
   "cell_type": "code",
   "execution_count": 34,
   "id": "50661917",
   "metadata": {},
   "outputs": [
    {
     "data": {
      "text/plain": [
       "<AxesSubplot:xlabel='user_score', ylabel='sum_sale'>"
      ]
     },
     "execution_count": 34,
     "metadata": {},
     "output_type": "execute_result"
    },
    {
     "data": {
      "image/png": "[encoded data removed]",
      "text/plain": [
       "<Figure size 432x288 with 1 Axes>"
      ]
     },
     "metadata": {
      "needs_background": "light"
     },
     "output_type": "display_data"
    }
   ],
   "source": [
    "data_date.query('platform == \"xone\" and user_score != \"tbd\"').plot(x='user_score', y='sum_sale', kind='scatter', alpha=0.5) "
   ]
  },
  {
   "cell_type": "code",
   "execution_count": 35,
   "id": "3efbb5f9",
   "metadata": {},
   "outputs": [
    {
     "data": {
      "text/plain": [
       "<AxesSubplot:xlabel='critic_score', ylabel='sum_sale'>"
      ]
     },
     "execution_count": 35,
     "metadata": {},
     "output_type": "execute_result"
    },
    {
     "data": {
      "image/png": "[encoded data removed]",
      "text/plain": [
       "<Figure size 432x288 with 1 Axes>"
      ]
     },
     "metadata": {
      "needs_background": "light"
     },
     "output_type": "display_data"
    }
   ],
   "source": [
    "data_date.query('platform == \"xone\" and user_score != \"tbd\"').plot(x='critic_score', y='sum_sale', kind='scatter', alpha=0.5) "
   ]
  },
  {
   "cell_type": "code",
   "execution_count": 36,
   "id": "5058b8e2",
   "metadata": {
    "scrolled": true
   },
   "outputs": [
    {
     "name": "stdout",
     "output_type": "stream",
     "text": [
      "Корреляция между оценкой критиков и мировыми продажами: 0.42867694370333226\n"
     ]
    }
   ],
   "source": [
    "print('Корреляция между оценкой критиков и мировыми продажами:',\n",
    "        data_date.query('platform == \"xone\" and user_score != \"tbd\"')['critic_score'].corr(data_date.query('platform == \"xone\" and user_score != \"tbd\"')['sum_sale'])\n",
    "     )"
   ]
  },
  {
   "cell_type": "code",
   "execution_count": 37,
   "id": "f2353f10",
   "metadata": {},
   "outputs": [],
   "source": [
    "data_date['user_score'] = data_date['user_score'].fillna(-1) # Заменяем пропуски в data_date на -1, для возможности подсчета коэффициента Корреляция Пирсона"
   ]
  },
  {
   "cell_type": "code",
   "execution_count": 38,
   "id": "a4077a3f",
   "metadata": {},
   "outputs": [
    {
     "name": "stdout",
     "output_type": "stream",
     "text": [
      "Корреляция между оценкой пользователей и мировыми продажами: 0.10671381981034207\n"
     ]
    }
   ],
   "source": [
    "print('Корреляция между оценкой пользователей и мировыми продажами:',\n",
    "        data_date.query('platform == \"xone\" and user_score != \"tbd\"')['user_score'].astype('float').corr(data_date.query('platform == \"xone\" and user_score != \"tbd\"')['sum_sale'])\n",
    "     )#Выводим на экран Коэффициент корреляции  применяя фильтрацию и смену тпа данных у user_score с str на float"
   ]
  },
  {
   "cell_type": "markdown",
   "id": "9ff19dbf",
   "metadata": {},
   "source": [
    "**Результат:**\n",
    "* Согласно диаграме рассеивания, основное влияние на количесвто продаж имеют оценки Критикев, чем оценки пользователей\n",
    "* Эти результаты подтверждают коэфффициенты корреляции Пирсона."
   ]
  },
  {
   "cell_type": "markdown",
   "id": "3fca1c7a",
   "metadata": {},
   "source": [
    "**Соотнесите выводы с продажами игр на других платформах**"
   ]
  },
  {
   "cell_type": "markdown",
   "id": "ba21540a",
   "metadata": {},
   "source": [
    "Для анализа возьмем данные из списка топ 5 платформ по продажам."
   ]
  },
  {
   "cell_type": "code",
   "execution_count": 39,
   "id": "e9eccfe6",
   "metadata": {},
   "outputs": [],
   "source": [
    "data_date['user_score']= data_date.query('user_score != \"tbd\"')['user_score'].astype('float')"
   ]
  },
  {
   "cell_type": "code",
   "execution_count": 40,
   "id": "cd3e2dde",
   "metadata": {},
   "outputs": [],
   "source": [
    "def score_platform(need_data,score_1,score_2,platform):\n",
    "    #fig, axes = plt.subplots(nrows=1, ncols=2)\n",
    "    need_data.plot(x=score_1 ,y='sum_sale',kind='scatter',alpha=0.5, figsize=(5,3))\n",
    "    plt.title(f'Платформа {platform} по {score_1}')\n",
    "    plt.show()\n",
    "    need_data.plot(x=score_2 ,y='sum_sale',kind='scatter',alpha=0.5, figsize=(5,3))\n",
    "    plt.title(f'Платформа {platform} по {score_2}')\n",
    "    plt.show()\n",
    "    return print('Корреляция между оценкой пользователей и мировыми продажами:',\n",
    "                    need_data[score_1].corr(need_data['sum_sale']),\"\\n\",\n",
    "                 'Корреляция между оценкой критиков и мировыми продажами:',\n",
    "                    need_data[score_2].corr(need_data['sum_sale'])\n",
    "                 )"
   ]
  },
  {
   "cell_type": "code",
   "execution_count": 41,
   "id": "67399d26",
   "metadata": {},
   "outputs": [
    {
     "data": {
      "image/png": "[encoded data removed]",
      "text/plain": [
       "<Figure size 360x216 with 1 Axes>"
      ]
     },
     "metadata": {
      "needs_background": "light"
     },
     "output_type": "display_data"
    },
    {
     "data": {
      "image/png": "[encoded data removed]",
      "text/plain": [
       "<Figure size 360x216 with 1 Axes>"
      ]
     },
     "metadata": {
      "needs_background": "light"
     },
     "output_type": "display_data"
    },
    {
     "name": "stdout",
     "output_type": "stream",
     "text": [
      "Корреляция между оценкой пользователей и мировыми продажами: -0.040131589472697356 \n",
      " Корреляция между оценкой критиков и мировыми продажами: 0.40190287811475334\n"
     ]
    }
   ],
   "source": [
    "score_platform(data_date.query('platform == \"ps4\" and user_score != \"tbd\" and user_score > 0'),'user_score','critic_score','ps4')"
   ]
  },
  {
   "cell_type": "code",
   "execution_count": 42,
   "id": "5f7eaebd",
   "metadata": {
    "scrolled": false
   },
   "outputs": [
    {
     "data": {
      "image/png": "[encoded data removed]",
      "text/plain": [
       "<Figure size 360x216 with 1 Axes>"
      ]
     },
     "metadata": {
      "needs_background": "light"
     },
     "output_type": "display_data"
    },
    {
     "data": {
      "image/png": "[encoded data removed]",
      "text/plain": [
       "<Figure size 360x216 with 1 Axes>"
      ]
     },
     "metadata": {
      "needs_background": "light"
     },
     "output_type": "display_data"
    },
    {
     "name": "stdout",
     "output_type": "stream",
     "text": [
      "Корреляция между оценкой пользователей и мировыми продажами: -0.138444570945665 \n",
      " Корреляция между оценкой критиков и мировыми продажами: 0.5257228356581523\n"
     ]
    }
   ],
   "source": [
    "score_platform(data_date.query('platform == \"x360\" and user_score != \"tbd\" and user_score > 0'),'user_score','critic_score','x360')"
   ]
  },
  {
   "cell_type": "code",
   "execution_count": 43,
   "id": "cfdc2013",
   "metadata": {},
   "outputs": [
    {
     "data": {
      "image/png": "[encoded data removed]",
      "text/plain": [
       "<Figure size 360x216 with 1 Axes>"
      ]
     },
     "metadata": {
      "needs_background": "light"
     },
     "output_type": "display_data"
    },
    {
     "data": {
      "image/png": "[encoded data removed]",
      "text/plain": [
       "<Figure size 360x216 with 1 Axes>"
      ]
     },
     "metadata": {
      "needs_background": "light"
     },
     "output_type": "display_data"
    },
    {
     "name": "stdout",
     "output_type": "stream",
     "text": [
      "Корреляция между оценкой пользователей и мировыми продажами: -0.16676141347662118 \n",
      " Корреляция между оценкой критиков и мировыми продажами: 0.44657460493190704\n"
     ]
    }
   ],
   "source": [
    "score_platform(data_date.query('platform == \"ps3\" and user_score != \"tbd\" and user_score > 0'),'user_score','critic_score','ps3')"
   ]
  },
  {
   "cell_type": "markdown",
   "id": "0eb83d47",
   "metadata": {},
   "source": [
    "**Результат**:\n",
    "* По данным о платформах `ps3`, `x360`,`ps4` Результаты совпадают с результаты исследования самой плпулярной платформы `xone`\n",
    "* **Наибольшее влияние на продажи влияют оценки критиков по сравнению с оценками пользователей**"
   ]
  },
  {
   "cell_type": "markdown",
   "id": "a9788b34",
   "metadata": {},
   "source": [
    "**Посмотрите на общее распределение игр по жанрам. Что можно сказать о самых прибыльных жанрах? Выделяются ли жанры с высокими и низкими продажами?**"
   ]
  },
  {
   "cell_type": "code",
   "execution_count": 44,
   "id": "5fde0327",
   "metadata": {},
   "outputs": [],
   "source": [
    "#data_date_genre = data_date.pivot_table(index='genre', values='sum_sale',aggfunc='sum')"
   ]
  },
  {
   "cell_type": "code",
   "execution_count": 45,
   "id": "bc42a6ce",
   "metadata": {},
   "outputs": [],
   "source": [
    "#data_date_genre.plot(title=f'Распределие прибыли по жанру',grid=True, kind='bar',xlabel='Жанр', ylabel='Сумма',figsize=(9,3),rot=45 )"
   ]
  },
  {
   "cell_type": "code",
   "execution_count": 46,
   "id": "04c98d12",
   "metadata": {},
   "outputs": [
    {
     "data": {
      "text/plain": [
       "Text(0.5, 1.0, 'Распределение суммарных продаж по жанрам игр')"
      ]
     },
     "execution_count": 46,
     "metadata": {},
     "output_type": "execute_result"
    },
    {
     "data": {
      "image/png": "[encoded data removed]",
      "text/plain": [
       "<Figure size 1080x576 with 1 Axes>"
      ]
     },
     "metadata": {
      "needs_background": "light"
     },
     "output_type": "display_data"
    }
   ],
   "source": [
    "data_date.boxplot('sum_sale', by = 'genre', figsize = (15,8))\n",
    "plt.ylim(0, 3.7)\n",
    "plt.title('Распределение суммарных продаж по жанрам игр')"
   ]
  },
  {
   "cell_type": "markdown",
   "id": "ed997937",
   "metadata": {},
   "source": [
    "**Результат новый**\n",
    "\n",
    "Наибольшее медианное значение продаж и потенциал для роста имеют\n",
    "* `shooter`\n",
    "* `sports`\n",
    "* `platform`\n",
    "* `role-playing`"
   ]
  },
  {
   "cell_type": "markdown",
   "id": "fb7e6760",
   "metadata": {},
   "source": [
    "**Результат - старый **\n",
    "Наибольшей доходность  характеризуются следующие жанры:\n",
    "* `action`\n",
    "* `role-playing`\n",
    "* `shooter`\n",
    "* `sports`"
   ]
  },
  {
   "cell_type": "markdown",
   "id": "b93dbd1b",
   "metadata": {},
   "source": [
    "### Портрет пользователя каждого региона"
   ]
  },
  {
   "cell_type": "markdown",
   "id": "c0802466",
   "metadata": {},
   "source": [
    "**Самые популярные платформы (топ-5) по регионам**"
   ]
  },
  {
   "cell_type": "code",
   "execution_count": 47,
   "id": "4fdb37c5",
   "metadata": {},
   "outputs": [],
   "source": [
    "data_date_top = data_date.pivot_table(index=['platform'], values=['na_sales','eu_sales','jp_sales','other_sales'],aggfunc='sum')#Собираем сводную таблицу по нужным данным\n",
    "data_date_top = data_date_top.rename(columns={\"na_sales\": \"na\", \"eu_sales\": \"eu\", \"jp_sales\" : \"jp\", \"other_sales\":\"other\"})#Меняем названия столбцов"
   ]
  },
  {
   "cell_type": "code",
   "execution_count": 48,
   "id": "69f454cf",
   "metadata": {},
   "outputs": [
    {
     "data": {
      "image/png": "[encoded data removed]",
      "text/plain": [
       "<Figure size 432x288 with 1 Axes>"
      ]
     },
     "metadata": {
      "needs_background": "light"
     },
     "output_type": "display_data"
    },
    {
     "data": {
      "image/png": "[encoded data removed]",
      "text/plain": [
       "<Figure size 432x288 with 1 Axes>"
      ]
     },
     "metadata": {
      "needs_background": "light"
     },
     "output_type": "display_data"
    },
    {
     "data": {
      "image/png": "[encoded data removed]",
      "text/plain": [
       "<Figure size 432x288 with 1 Axes>"
      ]
     },
     "metadata": {
      "needs_background": "light"
     },
     "output_type": "display_data"
    },
    {
     "data": {
      "image/png": "[encoded data removed]",
      "text/plain": [
       "<Figure size 432x288 with 1 Axes>"
      ]
     },
     "metadata": {
      "needs_background": "light"
     },
     "output_type": "display_data"
    }
   ],
   "source": [
    "for elem in ['na','eu','jp','other']: #Выводим графики на экран по распределению продаж в каждом регионе\n",
    "    data_date_top[elem].sort_values(ascending=False).head(5).plot(kind='bar',rot=45)\n",
    "    plt.title(f'Суммарные продажи в {elem}')\n",
    "    plt.show()"
   ]
  },
  {
   "cell_type": "markdown",
   "id": "f9e21756",
   "metadata": {},
   "source": [
    "**Результаты**\n",
    "* В Северной Америке наибольшая популярность у платформы `ps4`\n",
    "* В Европе наибольшая популярность у платформы `ps4`\n",
    "* В Японии наибольшая популярность у платформы `3ds`\n",
    "* В других регионах самая популярная платформа `ps4`"
   ]
  },
  {
   "cell_type": "markdown",
   "id": "283132d9",
   "metadata": {},
   "source": [
    "**Самые популярные жанры (топ-5). Поясните разницу.**"
   ]
  },
  {
   "cell_type": "code",
   "execution_count": 49,
   "id": "a9c3b1de",
   "metadata": {},
   "outputs": [],
   "source": [
    "data_date_genre_reg = data_date.pivot_table(index='genre', values=['na_sales','eu_sales','jp_sales','other_sales'],aggfunc='sum')\n",
    "data_date_genre_reg = data_date_genre_reg.rename(columns={\"na_sales\": \"na\", \"eu_sales\": \"eu\", \"jp_sales\" : \"jp\", \"other_sales\":\"other\"})#Меняем названия столбцов"
   ]
  },
  {
   "cell_type": "code",
   "execution_count": 50,
   "id": "0dbda84c",
   "metadata": {},
   "outputs": [
    {
     "data": {
      "text/html": [
       "<div>\n",
       "<style scoped>\n",
       "    .dataframe tbody tr th:only-of-type {\n",
       "        vertical-align: middle;\n",
       "    }\n",
       "\n",
       "    .dataframe tbody tr th {\n",
       "        vertical-align: top;\n",
       "    }\n",
       "\n",
       "    .dataframe thead th {\n",
       "        text-align: right;\n",
       "    }\n",
       "</style>\n",
       "<table border=\"1\" class=\"dataframe\">\n",
       "  <thead>\n",
       "    <tr style=\"text-align: right;\">\n",
       "      <th></th>\n",
       "      <th>eu</th>\n",
       "      <th>jp</th>\n",
       "      <th>na</th>\n",
       "      <th>other</th>\n",
       "    </tr>\n",
       "    <tr>\n",
       "      <th>genre</th>\n",
       "      <th></th>\n",
       "      <th></th>\n",
       "      <th></th>\n",
       "      <th></th>\n",
       "    </tr>\n",
       "  </thead>\n",
       "  <tbody>\n",
       "    <tr>\n",
       "      <th>action</th>\n",
       "      <td>74.68</td>\n",
       "      <td>29.58</td>\n",
       "      <td>72.53</td>\n",
       "      <td>22.57</td>\n",
       "    </tr>\n",
       "    <tr>\n",
       "      <th>adventure</th>\n",
       "      <td>6.49</td>\n",
       "      <td>3.60</td>\n",
       "      <td>5.64</td>\n",
       "      <td>1.82</td>\n",
       "    </tr>\n",
       "    <tr>\n",
       "      <th>fighting</th>\n",
       "      <td>6.69</td>\n",
       "      <td>6.37</td>\n",
       "      <td>12.43</td>\n",
       "      <td>2.73</td>\n",
       "    </tr>\n",
       "    <tr>\n",
       "      <th>misc</th>\n",
       "      <td>12.86</td>\n",
       "      <td>5.61</td>\n",
       "      <td>15.05</td>\n",
       "      <td>4.03</td>\n",
       "    </tr>\n",
       "    <tr>\n",
       "      <th>platform</th>\n",
       "      <td>6.80</td>\n",
       "      <td>2.69</td>\n",
       "      <td>6.79</td>\n",
       "      <td>1.81</td>\n",
       "    </tr>\n",
       "  </tbody>\n",
       "</table>\n",
       "</div>"
      ],
      "text/plain": [
       "              eu     jp     na  other\n",
       "genre                                \n",
       "action     74.68  29.58  72.53  22.57\n",
       "adventure   6.49   3.60   5.64   1.82\n",
       "fighting    6.69   6.37  12.43   2.73\n",
       "misc       12.86   5.61  15.05   4.03\n",
       "platform    6.80   2.69   6.79   1.81"
      ]
     },
     "execution_count": 50,
     "metadata": {},
     "output_type": "execute_result"
    }
   ],
   "source": [
    "data_date_genre_reg.head()"
   ]
  },
  {
   "cell_type": "code",
   "execution_count": 51,
   "id": "7ef17329",
   "metadata": {},
   "outputs": [
    {
     "data": {
      "image/png": "[encoded data removed]",
      "text/plain": [
       "<Figure size 648x216 with 1 Axes>"
      ]
     },
     "metadata": {
      "needs_background": "light"
     },
     "output_type": "display_data"
    },
    {
     "data": {
      "image/png": "[encoded data removed]",
      "text/plain": [
       "<Figure size 648x216 with 1 Axes>"
      ]
     },
     "metadata": {
      "needs_background": "light"
     },
     "output_type": "display_data"
    },
    {
     "data": {
      "image/png": "[encoded data removed]",
      "text/plain": [
       "<Figure size 648x216 with 1 Axes>"
      ]
     },
     "metadata": {
      "needs_background": "light"
     },
     "output_type": "display_data"
    },
    {
     "data": {
      "image/png": "[encoded data removed]",
      "text/plain": [
       "<Figure size 648x216 with 1 Axes>"
      ]
     },
     "metadata": {
      "needs_background": "light"
     },
     "output_type": "display_data"
    }
   ],
   "source": [
    "for elem in ['na','eu','jp','other']:\n",
    "    data_date_genre_reg[elem].sort_values(ascending=False).head(5).plot(title=f'Распределие прибыли по жанру {elem}',grid=True, kind='bar',xlabel='Жанр', ylabel='Сумма',figsize=(9,3),rot=45 )\n",
    "    plt.show()"
   ]
  },
  {
   "cell_type": "markdown",
   "id": "609a0bf9",
   "metadata": {},
   "source": [
    "**Результаты**\n",
    "* В Северной Америке и Европе самые популярные жанры игр \n",
    "    * `shooter`\n",
    "    * `action`\n",
    "    * `sports`\n",
    "* В Японии самые популярные игры:\n",
    "    * `role-playing`\n",
    "    * `action`\n",
    "* В остальном мире самые популярные жанры игр совпадают с Северной Америкой и Европой:\n",
    "    * `shooter`\n",
    "    * `action`\n",
    "    * `sports`"
   ]
  },
  {
   "cell_type": "markdown",
   "id": "f83aa8d6",
   "metadata": {},
   "source": [
    "**Влияет ли рейтинг ESRB на продажи в отдельном регионе?**"
   ]
  },
  {
   "cell_type": "code",
   "execution_count": 57,
   "id": "4a2ee83b",
   "metadata": {},
   "outputs": [],
   "source": [
    "data_rat = data_date.pivot_table(index='rating', values = ['na_sales','eu_sales','jp_sales','other_sales'],aggfunc='sum')\n",
    "data_rat = data_rat.rename(columns={\"na_sales\": \"na\", \"eu_sales\": \"eu\", \"jp_sales\" : \"jp\", \"other_sales\":\"other\"})#Меняем названия столбцов"
   ]
  },
  {
   "cell_type": "code",
   "execution_count": 58,
   "id": "a28bd9c0",
   "metadata": {},
   "outputs": [],
   "source": [
    "data_rat = data_rat.reset_index()"
   ]
  },
  {
   "cell_type": "code",
   "execution_count": 59,
   "id": "3d5ea3db",
   "metadata": {},
   "outputs": [
    {
     "data": {
      "image/png": "[encoded data removed]",
      "text/plain": [
       "<Figure size 432x288 with 1 Axes>"
      ]
     },
     "metadata": {},
     "output_type": "display_data"
    },
    {
     "data": {
      "image/png": "[encoded data removed]",
      "text/plain": [
       "<Figure size 432x288 with 1 Axes>"
      ]
     },
     "metadata": {},
     "output_type": "display_data"
    },
    {
     "data": {
      "image/png": "[encoded data removed]",
      "text/plain": [
       "<Figure size 432x288 with 1 Axes>"
      ]
     },
     "metadata": {},
     "output_type": "display_data"
    },
    {
     "data": {
      "image/png": "[encoded data removed]",
      "text/plain": [
       "<Figure size 432x288 with 1 Axes>"
      ]
     },
     "metadata": {},
     "output_type": "display_data"
    }
   ],
   "source": [
    "for elem in ['na','eu','jp','other']:\n",
    "    fig, ax = plt.subplots()\n",
    "    ax.pie(data_rat[elem], labels= data_rat.rating, autopct='%1.1f%%')\n",
    "    ax.axis(\"equal\")\n",
    "    plt.title(f'Продажи от вейтинга в {elem}')\n",
    "    plt.show()"
   ]
  },
  {
   "cell_type": "markdown",
   "id": "cb37576d",
   "metadata": {},
   "source": [
    "**Результат**:\n",
    "* Игры без рейтинга занимают пости четверть объемов продаж по регионам. А в Японии их доля более 60%\n",
    "* В Северной Америке, Европе и Других странах самые продаваемые игры с рейтингом `M`\n",
    "* В Японии, как сказано выше, большую часть занимают продажи игр без рейтинга. Второе место по продажам занимают игры с Рейтингом `T`"
   ]
  },
  {
   "cell_type": "markdown",
   "id": "cf7557d4",
   "metadata": {},
   "source": [
    "### Проверка Гипотез"
   ]
  },
  {
   "cell_type": "markdown",
   "id": "03eb88db",
   "metadata": {},
   "source": [
    "#### Гипотеза номер 1"
   ]
  },
  {
   "cell_type": "markdown",
   "id": "6a5d64da",
   "metadata": {},
   "source": [
    "*Средние пользовательские рейтинги платформ Xbox One и PC одинаковые*"
   ]
  },
  {
   "cell_type": "markdown",
   "id": "8721f0bd",
   "metadata": {},
   "source": [
    "Сформулируем нулевые гипотезы:"
   ]
  },
  {
   "cell_type": "markdown",
   "id": "7e7789d2",
   "metadata": {},
   "source": [
    "Нулевая Гипотеза Н0 = *Нулевая гипотеза H₀: Средние пользовательские рейтинги платформ Xbox One и PC одинаковые*"
   ]
  },
  {
   "cell_type": "markdown",
   "id": "9dd5e5be",
   "metadata": {},
   "source": [
    "Альтернативная гипотеза H1: *Средние пользовательские рейтинги платформ Xbox One и PC различаются*"
   ]
  },
  {
   "cell_type": "code",
   "execution_count": 55,
   "id": "ffdbc7cf",
   "metadata": {},
   "outputs": [
    {
     "name": "stdout",
     "output_type": "stream",
     "text": [
      "p-значение: 0.26246011727057733\n",
      "Не получилось отвергнуть нулевую гипотезу\n"
     ]
    }
   ],
   "source": [
    "#Выполним проверку гипотезы. Будем использовать метод ttest_ind\n",
    "\n",
    "alpha = .05\n",
    "\n",
    "results = st.ttest_ind(data_date[(data_date['platform']=='xone')]['user_score'].dropna(), data_date[(data_date['platform']=='pc')]['user_score'].dropna(), equal_var=False)\n",
    "\n",
    "print('p-значение:', results.pvalue)\n",
    "\n",
    "\n",
    "if (results.pvalue < alpha):\n",
    "    print(\"Отвергаем нулевую гипотезу\")\n",
    "else:\n",
    "    print(\"Не получилось отвергнуть нулевую гипотезу\")"
   ]
  },
  {
   "cell_type": "markdown",
   "id": "d1b3d436",
   "metadata": {},
   "source": [
    "**Вывод**: p-value около 35 %. Значит отвергнуть Нулевую гипотезу нельзя. То есть Средние пользовательские рейтинги `Xbox one` и `pc` схожи"
   ]
  },
  {
   "cell_type": "markdown",
   "id": "55afd8d1",
   "metadata": {},
   "source": [
    "#### Гипотеза 2"
   ]
  },
  {
   "cell_type": "markdown",
   "id": "79d2ff47",
   "metadata": {},
   "source": [
    "*Средние пользовательские рейтинги жанров Action (англ. «действие», экшен-игры) и Sports (англ. «спортивные соревнования») разные*"
   ]
  },
  {
   "cell_type": "markdown",
   "id": "2a25447b",
   "metadata": {},
   "source": [
    "Нулевая гипотеза H₀: *Средние пользовательские рейтинги жанров Action и Sports одинаковые.*\n",
    "\n",
    "Альтернативная гипотеза H₁: *Средние пользовательские рейтинги жанров Action и Sports различаются.*"
   ]
  },
  {
   "cell_type": "code",
   "execution_count": 56,
   "id": "259ba9e1",
   "metadata": {},
   "outputs": [
    {
     "name": "stdout",
     "output_type": "stream",
     "text": [
      "p-значение: 4.829371809684136e-05\n",
      "Отвергаем нулевую гипотезу\n"
     ]
    }
   ],
   "source": [
    "#Выполним проверку гипотезы. Будем использовать метод ttest_ind\n",
    "\n",
    "alpha = .05\n",
    "\n",
    "results = st.ttest_ind(data_date[(data_date['genre']=='action')]['user_score'].dropna(), data_date[(data_date['genre']=='sports')]['user_score'].dropna(), equal_var=False)\n",
    "\n",
    "print('p-значение:', results.pvalue)\n",
    "\n",
    "\n",
    "if (results.pvalue < alpha):\n",
    "    print(\"Отвергаем нулевую гипотезу\")\n",
    "else:\n",
    "    print(\"Не получилось отвергнуть нулевую гипотезу\")"
   ]
  },
  {
   "cell_type": "markdown",
   "id": "7508afc1",
   "metadata": {},
   "source": [
    "**Вывод**: Значение p-value сильно меньше 1%. Значит актуальна альтернативная гипотеза: *Средние пользовательские рейтинги жанров Action и Sports различаются*"
   ]
  },
  {
   "cell_type": "markdown",
   "id": "dda0124b",
   "metadata": {},
   "source": [
    "## Вывод"
   ]
  },
  {
   "cell_type": "markdown",
   "id": "fb8dee2b",
   "metadata": {},
   "source": [
    "Проведена предобработка данных:\n",
    "* Значение столбцов и строк приведены к нижнему регистру\n",
    "* Проведена частичная замена пропусков исходя из известных данных по ДатаФрейму"
   ]
  },
  {
   "cell_type": "markdown",
   "id": "c060c925",
   "metadata": {},
   "source": [
    "Проведен Исследовательский анализ данных. Выводы по результату анализа"
   ]
  },
  {
   "cell_type": "markdown",
   "id": "3315f4a9",
   "metadata": {},
   "source": [
    "**Важны ли данные за весь известный период?**"
   ]
  },
  {
   "cell_type": "markdown",
   "id": "c5b8efc2",
   "metadata": {},
   "source": [
    "Согласно результатам исследвоания, для составления картины на 2017 год достаточно проанализировать данные за 4 последние года так как:\n",
    "* Большой рост популярности игр виден в период с 2002 года\n",
    "* При этом \"жизнь\" платформы около 5 лет\n",
    "* Для прогноза на 2017 год необходимо учитывать те платформы, которые имею к концу 2016 восходящий Тред по продажам"
   ]
  },
  {
   "cell_type": "markdown",
   "id": "64fe4bc3",
   "metadata": {},
   "source": [
    "**Потенциально прибыльные платформы**"
   ]
  },
  {
   "cell_type": "markdown",
   "id": "dd0b4930",
   "metadata": {},
   "source": [
    "* Топ 5 по продаж за исследуемый период - *`ps4`*,*`xone`*,*`3ds`*,*`ps3`*,*`x360`*\n",
    "* По распределению суммарных продаж - потенциальные лидеры это *`ps4`* и *`xone`*"
   ]
  },
  {
   "cell_type": "markdown",
   "id": "ad7be789",
   "metadata": {},
   "source": [
    "**Влияние на продажи отзывы критиков и игроков**"
   ]
  },
  {
   "cell_type": "markdown",
   "id": "7b1d35ac",
   "metadata": {},
   "source": [
    "Согласно результатам, наибольшие влияние на продажи оказывают оценки критиков, по сравнению с оценками игроков (Корреляция по игрокам сотавляет окло 0.1, в то время как по критикам более 0.4 для разных платформ). Значит для построения бизнес модели для послежующего периода следует опиарться на мнение **Критиков**"
   ]
  },
  {
   "cell_type": "markdown",
   "id": "ccd7f285",
   "metadata": {},
   "source": [
    "**Популярные жанры по общему числу продаж**"
   ]
  },
  {
   "cell_type": "markdown",
   "id": "214de7a9",
   "metadata": {},
   "source": [
    "Наибольшей доходность характеризуются следующие жанры:\n",
    "* `shooter`\n",
    "* `sports`\n",
    "* `platform`\n",
    "* `role-playing`"
   ]
  },
  {
   "cell_type": "markdown",
   "id": "e4d22a2a",
   "metadata": {},
   "source": [
    "**Портрет пользователя по регионам**"
   ]
  },
  {
   "cell_type": "markdown",
   "id": "3dace2af",
   "metadata": {},
   "source": [
    "Топ популярных плотформ по регионам:\n",
    "* В Северной Америке наибольшая популярность у платформы `ps4`\n",
    "* В Европе наибольшая популярность у платформы `ps4`\n",
    "* В Японии наибольшая популярность у платформы `3ds`\n",
    "* В других регионах самая популярная платформа `ps4`"
   ]
  },
  {
   "cell_type": "markdown",
   "id": "aecb33b2",
   "metadata": {},
   "source": [
    "Топ популярных жанров в регионах:\n",
    "\n",
    "* В Северной Америке и Европе самые популярные жанры игр \n",
    "    * `shooter`\n",
    "    * `action`\n",
    "    * `sports`\n",
    "* В Японии самые популярные игры:\n",
    "    * `role-playing`\n",
    "    * `action`\n",
    "* В остальном мире самые популярные жанры игр совпадают с Северной Америкой и Европой:\n",
    "    * `shooter`\n",
    "    * `action`\n",
    "    * `sports`"
   ]
  },
  {
   "cell_type": "markdown",
   "id": "6dac6db8",
   "metadata": {},
   "source": [
    "Влияние рейтинга на продажи:\n",
    "* Игры без рейтинга занимают пости четверть объемов продаж по регионам. А в Японии их доля более 60%\n",
    "* В Северной Америке, Европе и Других странах самые продаваемые игры с рейтингом `M`\n",
    "* В Японии, как сказано выше, большую часть занимают продажи игр без рейтинга. Второе место по продажам занимают игры с Рейтингом `T`"
   ]
  },
  {
   "cell_type": "markdown",
   "id": "80163091",
   "metadata": {},
   "source": [
    "**Проверка гипотиз** "
   ]
  },
  {
   "cell_type": "markdown",
   "id": "6c3cb55d",
   "metadata": {},
   "source": [
    "* Средние пользовательские рейтинги `Xbox one` и `pc` схожи\n",
    "* Средние пользовательские рейтинги жанров Action и Sports различаются"
   ]
  },
  {
   "cell_type": "markdown",
   "id": "a10a5bd2",
   "metadata": {},
   "source": [
    "## Рекомендации"
   ]
  },
  {
   "cell_type": "markdown",
   "id": "3e8a21a9",
   "metadata": {},
   "source": [
    "Согласно проведенному анализу, можно предлоить следующую стратегию на 2017 год:\n",
    "\n",
    "На успех игры влиют нескольуо факторов.\n",
    "Во-первых, стоит обратить внимание на платформы *`ps4`* и *`xone`*. Они, ожидаемо будут одними из самых популярных в периоде 2017-2018 годах. При этом *`ps4`* самой популярной на всей территории кроме Японии.\n",
    "Во-вторых, стоит учесть жанр игры. Самые популярные на даный момент во всем мире, кроме Японии, это `shooter`, `action`, `sports`.\n",
    "В-тертьих, рейтинг игр влияет, в основном, на продаваемость в всех странах, кроме Японии. В последней доля продаж игр без рйетинга составляет более 60%. Следует подбирать рейтинги для игр исходя из территории продажи"
   ]
  }
 ],
 "metadata": {
  "ExecuteTimeLog": [
   {
    "duration": 445,
    "start_time": "2022-06-20T16:57:48.749Z"
   },
   {
    "duration": 67,
    "start_time": "2022-06-20T16:57:49.196Z"
   },
   {
    "duration": 31,
    "start_time": "2022-06-20T16:57:49.280Z"
   },
   {
    "duration": 4,
    "start_time": "2022-06-20T16:57:49.313Z"
   },
   {
    "duration": 87,
    "start_time": "2022-06-20T16:57:49.320Z"
   },
   {
    "duration": 13,
    "start_time": "2022-06-20T16:57:49.410Z"
   },
   {
    "duration": 78,
    "start_time": "2022-06-20T16:57:49.424Z"
   },
   {
    "duration": 14,
    "start_time": "2022-06-20T16:57:49.504Z"
   },
   {
    "duration": 66,
    "start_time": "2022-06-20T16:57:49.520Z"
   },
   {
    "duration": 4,
    "start_time": "2022-06-20T16:57:49.588Z"
   },
   {
    "duration": 7,
    "start_time": "2022-06-20T16:57:49.594Z"
   },
   {
    "duration": 17,
    "start_time": "2022-06-20T16:57:49.603Z"
   },
   {
    "duration": 57,
    "start_time": "2022-06-20T16:57:49.622Z"
   },
   {
    "duration": 7,
    "start_time": "2022-06-20T16:57:49.683Z"
   },
   {
    "duration": 25,
    "start_time": "2022-06-20T16:57:49.691Z"
   },
   {
    "duration": 325,
    "start_time": "2022-06-20T16:57:49.718Z"
   },
   {
    "duration": 23,
    "start_time": "2022-06-20T16:57:50.045Z"
   },
   {
    "duration": 468,
    "start_time": "2022-06-20T16:57:50.070Z"
   },
   {
    "duration": 15,
    "start_time": "2022-06-20T16:57:50.547Z"
   },
   {
    "duration": 11,
    "start_time": "2022-06-20T16:57:50.564Z"
   },
   {
    "duration": 1298,
    "start_time": "2022-06-20T16:57:50.577Z"
   },
   {
    "duration": 8,
    "start_time": "2022-06-20T16:57:51.877Z"
   },
   {
    "duration": 19,
    "start_time": "2022-06-20T16:57:51.887Z"
   },
   {
    "duration": 25,
    "start_time": "2022-06-20T16:57:51.907Z"
   },
   {
    "duration": 42,
    "start_time": "2022-06-20T16:57:51.935Z"
   },
   {
    "duration": 742,
    "start_time": "2022-06-20T16:57:51.979Z"
   },
   {
    "duration": 10,
    "start_time": "2022-06-20T16:57:52.726Z"
   },
   {
    "duration": 656,
    "start_time": "2022-06-20T16:57:52.738Z"
   },
   {
    "duration": 257,
    "start_time": "2022-06-20T16:57:53.395Z"
   },
   {
    "duration": 175,
    "start_time": "2022-06-20T16:57:53.654Z"
   },
   {
    "duration": 174,
    "start_time": "2022-06-20T16:57:53.831Z"
   },
   {
    "duration": 24,
    "start_time": "2022-06-20T16:57:54.008Z"
   },
   {
    "duration": 39,
    "start_time": "2022-06-20T16:57:54.034Z"
   },
   {
    "duration": 13,
    "start_time": "2022-06-20T16:57:54.076Z"
   },
   {
    "duration": 15,
    "start_time": "2022-06-20T16:57:54.091Z"
   },
   {
    "duration": 7,
    "start_time": "2022-06-20T16:57:54.108Z"
   },
   {
    "duration": 394,
    "start_time": "2022-06-20T16:57:54.118Z"
   },
   {
    "duration": 368,
    "start_time": "2022-06-20T16:57:54.514Z"
   },
   {
    "duration": 442,
    "start_time": "2022-06-20T16:57:54.884Z"
   },
   {
    "duration": 13,
    "start_time": "2022-06-20T16:57:55.330Z"
   },
   {
    "duration": 292,
    "start_time": "2022-06-20T16:57:55.347Z"
   },
   {
    "duration": 20,
    "start_time": "2022-06-20T16:58:13.455Z"
   },
   {
    "duration": 22,
    "start_time": "2022-06-20T16:58:22.214Z"
   },
   {
    "duration": 24,
    "start_time": "2022-06-20T17:03:49.470Z"
   },
   {
    "duration": 24,
    "start_time": "2022-06-20T17:05:26.552Z"
   },
   {
    "duration": 393,
    "start_time": "2022-06-20T17:08:34.673Z"
   },
   {
    "duration": 49,
    "start_time": "2022-06-20T17:08:35.068Z"
   },
   {
    "duration": 31,
    "start_time": "2022-06-20T17:08:35.119Z"
   },
   {
    "duration": 4,
    "start_time": "2022-06-20T17:08:35.152Z"
   },
   {
    "duration": 19,
    "start_time": "2022-06-20T17:08:35.158Z"
   },
   {
    "duration": 18,
    "start_time": "2022-06-20T17:08:35.178Z"
   },
   {
    "duration": 41,
    "start_time": "2022-06-20T17:08:35.197Z"
   },
   {
    "duration": 16,
    "start_time": "2022-06-20T17:08:35.240Z"
   },
   {
    "duration": 22,
    "start_time": "2022-06-20T17:08:35.258Z"
   },
   {
    "duration": 4,
    "start_time": "2022-06-20T17:08:35.283Z"
   },
   {
    "duration": 10,
    "start_time": "2022-06-20T17:08:35.288Z"
   },
   {
    "duration": 23,
    "start_time": "2022-06-20T17:08:35.299Z"
   },
   {
    "duration": 33,
    "start_time": "2022-06-20T17:08:35.324Z"
   },
   {
    "duration": 10,
    "start_time": "2022-06-20T17:08:35.359Z"
   },
   {
    "duration": 26,
    "start_time": "2022-06-20T17:08:35.371Z"
   },
   {
    "duration": 251,
    "start_time": "2022-06-20T17:08:35.399Z"
   },
   {
    "duration": 13,
    "start_time": "2022-06-20T17:08:35.652Z"
   },
   {
    "duration": 415,
    "start_time": "2022-06-20T17:08:35.667Z"
   },
   {
    "duration": 12,
    "start_time": "2022-06-20T17:08:36.084Z"
   },
   {
    "duration": 12,
    "start_time": "2022-06-20T17:08:36.098Z"
   },
   {
    "duration": 948,
    "start_time": "2022-06-20T17:08:36.112Z"
   },
   {
    "duration": 6,
    "start_time": "2022-06-20T17:08:37.062Z"
   },
   {
    "duration": 37,
    "start_time": "2022-06-20T17:08:37.069Z"
   },
   {
    "duration": 59,
    "start_time": "2022-06-20T17:08:37.108Z"
   },
   {
    "duration": 19,
    "start_time": "2022-06-20T17:08:37.169Z"
   },
   {
    "duration": 551,
    "start_time": "2022-06-20T17:08:37.190Z"
   },
   {
    "duration": 8,
    "start_time": "2022-06-20T17:08:37.743Z"
   },
   {
    "duration": 541,
    "start_time": "2022-06-20T17:08:37.755Z"
   },
   {
    "duration": 216,
    "start_time": "2022-06-20T17:08:38.298Z"
   },
   {
    "duration": 150,
    "start_time": "2022-06-20T17:08:38.516Z"
   },
   {
    "duration": 202,
    "start_time": "2022-06-20T17:08:38.667Z"
   },
   {
    "duration": 11,
    "start_time": "2022-06-20T17:08:38.871Z"
   },
   {
    "duration": 30,
    "start_time": "2022-06-20T17:08:38.884Z"
   },
   {
    "duration": 32,
    "start_time": "2022-06-20T17:08:38.916Z"
   },
   {
    "duration": 51,
    "start_time": "2022-06-20T17:08:38.949Z"
   },
   {
    "duration": 52,
    "start_time": "2022-06-20T17:08:39.002Z"
   },
   {
    "duration": 316,
    "start_time": "2022-06-20T17:08:39.056Z"
   },
   {
    "duration": 328,
    "start_time": "2022-06-20T17:08:39.374Z"
   },
   {
    "duration": 388,
    "start_time": "2022-06-20T17:08:39.704Z"
   },
   {
    "duration": 9,
    "start_time": "2022-06-20T17:08:40.094Z"
   },
   {
    "duration": 238,
    "start_time": "2022-06-20T17:08:40.105Z"
   },
   {
    "duration": 14,
    "start_time": "2022-06-20T17:08:40.345Z"
   },
   {
    "duration": 376,
    "start_time": "2022-06-20T17:08:40.360Z"
   },
   {
    "duration": 13,
    "start_time": "2022-06-20T17:08:40.737Z"
   },
   {
    "duration": 14,
    "start_time": "2022-06-20T17:08:40.752Z"
   },
   {
    "duration": 426,
    "start_time": "2022-06-20T17:08:40.767Z"
   },
   {
    "duration": 13,
    "start_time": "2022-06-20T17:08:41.195Z"
   },
   {
    "duration": 20,
    "start_time": "2022-06-20T17:08:41.210Z"
   },
   {
    "duration": 261,
    "start_time": "2022-06-20T17:08:41.231Z"
   },
   {
    "duration": 3,
    "start_time": "2022-06-20T17:08:41.494Z"
   },
   {
    "duration": 15,
    "start_time": "2022-06-20T17:08:41.498Z"
   },
   {
    "duration": 15,
    "start_time": "2022-06-20T17:08:41.523Z"
   },
   {
    "duration": 515,
    "start_time": "2022-06-21T20:24:44.405Z"
   },
   {
    "duration": 340,
    "start_time": "2022-06-21T20:24:44.923Z"
   },
   {
    "duration": 559,
    "start_time": "2022-06-21T20:24:45.269Z"
   },
   {
    "duration": 3,
    "start_time": "2022-06-21T20:24:45.831Z"
   },
   {
    "duration": 92,
    "start_time": "2022-06-21T20:24:45.836Z"
   },
   {
    "duration": 22,
    "start_time": "2022-06-21T20:24:45.930Z"
   },
   {
    "duration": 5,
    "start_time": "2022-06-21T20:24:45.954Z"
   },
   {
    "duration": 67,
    "start_time": "2022-06-21T20:24:45.962Z"
   },
   {
    "duration": 5,
    "start_time": "2022-06-21T20:24:46.032Z"
   },
   {
    "duration": 23,
    "start_time": "2022-06-21T20:24:46.040Z"
   },
   {
    "duration": 51,
    "start_time": "2022-06-21T20:24:46.066Z"
   },
   {
    "duration": 23,
    "start_time": "2022-06-21T20:24:46.120Z"
   },
   {
    "duration": 7,
    "start_time": "2022-06-21T20:24:46.145Z"
   },
   {
    "duration": 31,
    "start_time": "2022-06-21T20:24:46.154Z"
   },
   {
    "duration": 34,
    "start_time": "2022-06-21T20:24:46.187Z"
   },
   {
    "duration": 31,
    "start_time": "2022-06-21T20:24:46.223Z"
   },
   {
    "duration": 12,
    "start_time": "2022-06-21T20:24:46.257Z"
   },
   {
    "duration": 244,
    "start_time": "2022-06-21T20:24:46.272Z"
   },
   {
    "duration": 22,
    "start_time": "2022-06-21T20:24:46.519Z"
   },
   {
    "duration": 22,
    "start_time": "2022-06-21T20:24:46.544Z"
   },
   {
    "duration": 52,
    "start_time": "2022-06-21T20:24:46.568Z"
   },
   {
    "duration": 11,
    "start_time": "2022-06-21T20:24:46.622Z"
   },
   {
    "duration": 425,
    "start_time": "2022-06-21T20:24:46.636Z"
   },
   {
    "duration": 15,
    "start_time": "2022-06-21T20:24:47.066Z"
   },
   {
    "duration": 33,
    "start_time": "2022-06-21T20:24:47.082Z"
   },
   {
    "duration": 1166,
    "start_time": "2022-06-21T20:24:47.117Z"
   },
   {
    "duration": 7,
    "start_time": "2022-06-21T20:24:48.285Z"
   },
   {
    "duration": 45,
    "start_time": "2022-06-21T20:24:48.295Z"
   },
   {
    "duration": 17,
    "start_time": "2022-06-21T20:24:48.342Z"
   },
   {
    "duration": 47,
    "start_time": "2022-06-21T20:24:48.363Z"
   },
   {
    "duration": 732,
    "start_time": "2022-06-21T20:24:48.412Z"
   },
   {
    "duration": 14,
    "start_time": "2022-06-21T20:24:49.146Z"
   },
   {
    "duration": 252,
    "start_time": "2022-06-21T20:24:49.162Z"
   },
   {
    "duration": 176,
    "start_time": "2022-06-21T20:24:49.416Z"
   },
   {
    "duration": 170,
    "start_time": "2022-06-21T20:24:49.596Z"
   },
   {
    "duration": 17,
    "start_time": "2022-06-21T20:24:49.772Z"
   },
   {
    "duration": 21,
    "start_time": "2022-06-21T20:24:49.791Z"
   },
   {
    "duration": 16,
    "start_time": "2022-06-21T20:24:49.814Z"
   },
   {
    "duration": 12,
    "start_time": "2022-06-21T20:24:49.833Z"
   },
   {
    "duration": 18,
    "start_time": "2022-06-21T20:24:49.848Z"
   },
   {
    "duration": 342,
    "start_time": "2022-06-21T20:24:49.875Z"
   },
   {
    "duration": 316,
    "start_time": "2022-06-21T20:24:50.219Z"
   },
   {
    "duration": 424,
    "start_time": "2022-06-21T20:24:50.538Z"
   },
   {
    "duration": 7,
    "start_time": "2022-06-21T20:24:50.964Z"
   },
   {
    "duration": 42,
    "start_time": "2022-06-21T20:24:50.975Z"
   },
   {
    "duration": 432,
    "start_time": "2022-06-21T20:24:51.019Z"
   },
   {
    "duration": 25,
    "start_time": "2022-06-21T20:24:51.454Z"
   },
   {
    "duration": 556,
    "start_time": "2022-06-21T20:24:51.487Z"
   },
   {
    "duration": 27,
    "start_time": "2022-06-21T20:24:52.046Z"
   },
   {
    "duration": 38,
    "start_time": "2022-06-21T20:24:52.075Z"
   },
   {
    "duration": 597,
    "start_time": "2022-06-21T20:24:52.115Z"
   },
   {
    "duration": 30,
    "start_time": "2022-06-21T20:25:05.435Z"
   },
   {
    "duration": 376,
    "start_time": "2022-06-22T08:10:06.382Z"
   },
   {
    "duration": 372,
    "start_time": "2022-06-22T08:10:06.760Z"
   },
   {
    "duration": 538,
    "start_time": "2022-06-22T08:10:07.134Z"
   },
   {
    "duration": 3,
    "start_time": "2022-06-22T08:10:07.674Z"
   },
   {
    "duration": 117,
    "start_time": "2022-06-22T08:10:07.679Z"
   },
   {
    "duration": 20,
    "start_time": "2022-06-22T08:10:07.798Z"
   },
   {
    "duration": 25,
    "start_time": "2022-06-22T08:10:07.820Z"
   },
   {
    "duration": 31,
    "start_time": "2022-06-22T08:10:07.847Z"
   },
   {
    "duration": 14,
    "start_time": "2022-06-22T08:10:07.880Z"
   },
   {
    "duration": 25,
    "start_time": "2022-06-22T08:10:07.897Z"
   },
   {
    "duration": 37,
    "start_time": "2022-06-22T08:10:07.923Z"
   },
   {
    "duration": 24,
    "start_time": "2022-06-22T08:10:07.962Z"
   },
   {
    "duration": 21,
    "start_time": "2022-06-22T08:10:07.988Z"
   },
   {
    "duration": 22,
    "start_time": "2022-06-22T08:10:08.011Z"
   },
   {
    "duration": 31,
    "start_time": "2022-06-22T08:10:08.035Z"
   },
   {
    "duration": 29,
    "start_time": "2022-06-22T08:10:08.067Z"
   },
   {
    "duration": 11,
    "start_time": "2022-06-22T08:10:08.098Z"
   },
   {
    "duration": 128,
    "start_time": "2022-06-22T08:10:08.111Z"
   },
   {
    "duration": 16,
    "start_time": "2022-06-22T08:10:08.241Z"
   },
   {
    "duration": 10,
    "start_time": "2022-06-22T08:10:08.259Z"
   },
   {
    "duration": 30,
    "start_time": "2022-06-22T08:10:08.271Z"
   },
   {
    "duration": 15,
    "start_time": "2022-06-22T08:10:08.303Z"
   },
   {
    "duration": 370,
    "start_time": "2022-06-22T08:10:08.322Z"
   },
   {
    "duration": 12,
    "start_time": "2022-06-22T08:10:08.694Z"
   },
   {
    "duration": 5,
    "start_time": "2022-06-22T08:10:08.708Z"
   },
   {
    "duration": 886,
    "start_time": "2022-06-22T08:10:08.724Z"
   },
   {
    "duration": 11,
    "start_time": "2022-06-22T08:10:09.612Z"
   },
   {
    "duration": 21,
    "start_time": "2022-06-22T08:10:09.627Z"
   },
   {
    "duration": 33,
    "start_time": "2022-06-22T08:10:09.649Z"
   },
   {
    "duration": 25,
    "start_time": "2022-06-22T08:10:09.684Z"
   },
   {
    "duration": 642,
    "start_time": "2022-06-22T08:10:09.710Z"
   },
   {
    "duration": 4,
    "start_time": "2022-06-22T08:10:10.354Z"
   },
   {
    "duration": 207,
    "start_time": "2022-06-22T08:10:10.359Z"
   },
   {
    "duration": 134,
    "start_time": "2022-06-22T08:10:10.568Z"
   },
   {
    "duration": 145,
    "start_time": "2022-06-22T08:10:10.704Z"
   },
   {
    "duration": 10,
    "start_time": "2022-06-22T08:10:10.850Z"
   },
   {
    "duration": 6,
    "start_time": "2022-06-22T08:10:10.862Z"
   },
   {
    "duration": 11,
    "start_time": "2022-06-22T08:10:10.869Z"
   },
   {
    "duration": 5,
    "start_time": "2022-06-22T08:10:10.882Z"
   },
   {
    "duration": 12,
    "start_time": "2022-06-22T08:10:10.888Z"
   },
   {
    "duration": 275,
    "start_time": "2022-06-22T08:10:10.902Z"
   },
   {
    "duration": 266,
    "start_time": "2022-06-22T08:10:11.179Z"
   },
   {
    "duration": 323,
    "start_time": "2022-06-22T08:10:11.446Z"
   },
   {
    "duration": 3,
    "start_time": "2022-06-22T08:10:11.770Z"
   },
   {
    "duration": 8,
    "start_time": "2022-06-22T08:10:11.774Z"
   },
   {
    "duration": 306,
    "start_time": "2022-06-22T08:10:11.783Z"
   },
   {
    "duration": 11,
    "start_time": "2022-06-22T08:10:12.090Z"
   },
   {
    "duration": 455,
    "start_time": "2022-06-22T08:10:12.103Z"
   },
   {
    "duration": 13,
    "start_time": "2022-06-22T08:10:12.561Z"
   },
   {
    "duration": 26,
    "start_time": "2022-06-22T08:10:12.576Z"
   },
   {
    "duration": 544,
    "start_time": "2022-06-22T08:10:12.604Z"
   },
   {
    "duration": 10,
    "start_time": "2022-06-22T08:10:13.150Z"
   },
   {
    "duration": 8,
    "start_time": "2022-06-22T08:10:13.161Z"
   },
   {
    "duration": 454,
    "start_time": "2022-06-22T08:10:13.171Z"
   },
   {
    "duration": 8,
    "start_time": "2022-06-22T08:10:13.626Z"
   },
   {
    "duration": 18,
    "start_time": "2022-06-22T08:10:13.636Z"
   },
   {
    "duration": 10,
    "start_time": "2022-06-22T08:10:39.771Z"
   },
   {
    "duration": 4,
    "start_time": "2022-06-22T08:10:45.269Z"
   },
   {
    "duration": 351,
    "start_time": "2022-06-22T08:10:45.980Z"
   }
  ],
  "kernelspec": {
   "display_name": "Python 3 (ipykernel)",
   "language": "python",
   "name": "python3"
  },
  "language_info": {
   "codemirror_mode": {
    "name": "ipython",
    "version": 3
   },
   "file_extension": ".py",
   "mimetype": "text/x-python",
   "name": "python",
   "nbconvert_exporter": "python",
   "pygments_lexer": "ipython3",
   "version": "3.9.7"
  },
  "toc": {
   "base_numbering": 1,
   "nav_menu": {},
   "number_sections": true,
   "sideBar": true,
   "skip_h1_title": true,
   "title_cell": "Table of Contents",
   "title_sidebar": "Contents",
   "toc_cell": false,
   "toc_position": {},
   "toc_section_display": true,
   "toc_window_display": false
  }
 },
 "nbformat": 4,
 "nbformat_minor": 5
}
